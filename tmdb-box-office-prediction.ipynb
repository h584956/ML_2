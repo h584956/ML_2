{
 "cells": [
  {
   "cell_type": "markdown",
   "id": "f48cb51b",
   "metadata": {},
   "source": [
    "## Setup"
   ]
  },
  {
   "cell_type": "code",
   "execution_count": 1,
   "id": "9d6b0c2d",
   "metadata": {},
   "outputs": [],
   "source": [
    "%matplotlib inline\n",
    "import numpy as np \n",
    "import pandas as pd \n",
    "import matplotlib.pyplot as plt\n",
    "import seaborn as sns\n",
    "import ast"
   ]
  },
  {
   "cell_type": "markdown",
   "id": "cdbdea82",
   "metadata": {},
   "source": [
    "Lists the files in the data folder"
   ]
  },
  {
   "cell_type": "code",
   "execution_count": 2,
   "id": "4f4d7486",
   "metadata": {},
   "outputs": [
    {
     "name": "stdout",
     "output_type": "stream",
     "text": [
      "['.DS_Store', 'test.csv', 'train.csv', 'sample_submission.csv']\n"
     ]
    }
   ],
   "source": [
    "import os\n",
    "print(os.listdir(\"data\"))"
   ]
  },
  {
   "cell_type": "markdown",
   "id": "5d878485",
   "metadata": {},
   "source": [
    "Reads in the csv-files and creates a dataframe using pandas"
   ]
  },
  {
   "cell_type": "code",
   "execution_count": 3,
   "id": "46f1a18b",
   "metadata": {},
   "outputs": [],
   "source": [
    "train_org = pd.read_csv('data/train.csv')\n",
    "test_org = pd.read_csv('data/test.csv')\n",
    "submission = pd.read_csv('data/sample_submission.csv')\n",
    "\n",
    "train = train_org.copy()\n",
    "test = test_org.copy()\n",
    "\n",
    "test_id = test['id']"
   ]
  },
  {
   "cell_type": "markdown",
   "id": "58bd4f11",
   "metadata": {},
   "source": [
    "# Exploring the data"
   ]
  },
  {
   "cell_type": "code",
   "execution_count": 4,
   "id": "f3d04923",
   "metadata": {},
   "outputs": [
    {
     "data": {
      "text/html": [
       "<div>\n",
       "<style scoped>\n",
       "    .dataframe tbody tr th:only-of-type {\n",
       "        vertical-align: middle;\n",
       "    }\n",
       "\n",
       "    .dataframe tbody tr th {\n",
       "        vertical-align: top;\n",
       "    }\n",
       "\n",
       "    .dataframe thead th {\n",
       "        text-align: right;\n",
       "    }\n",
       "</style>\n",
       "<table border=\"1\" class=\"dataframe\">\n",
       "  <thead>\n",
       "    <tr style=\"text-align: right;\">\n",
       "      <th></th>\n",
       "      <th>id</th>\n",
       "      <th>belongs_to_collection</th>\n",
       "      <th>budget</th>\n",
       "      <th>genres</th>\n",
       "      <th>homepage</th>\n",
       "      <th>imdb_id</th>\n",
       "      <th>original_language</th>\n",
       "      <th>original_title</th>\n",
       "      <th>overview</th>\n",
       "      <th>popularity</th>\n",
       "      <th>...</th>\n",
       "      <th>release_date</th>\n",
       "      <th>runtime</th>\n",
       "      <th>spoken_languages</th>\n",
       "      <th>status</th>\n",
       "      <th>tagline</th>\n",
       "      <th>title</th>\n",
       "      <th>Keywords</th>\n",
       "      <th>cast</th>\n",
       "      <th>crew</th>\n",
       "      <th>revenue</th>\n",
       "    </tr>\n",
       "  </thead>\n",
       "  <tbody>\n",
       "    <tr>\n",
       "      <th>0</th>\n",
       "      <td>1</td>\n",
       "      <td>[{'id': 313576, 'name': 'Hot Tub Time Machine ...</td>\n",
       "      <td>14000000</td>\n",
       "      <td>[{'id': 35, 'name': 'Comedy'}]</td>\n",
       "      <td>NaN</td>\n",
       "      <td>tt2637294</td>\n",
       "      <td>en</td>\n",
       "      <td>Hot Tub Time Machine 2</td>\n",
       "      <td>When Lou, who has become the \"father of the In...</td>\n",
       "      <td>6.575393</td>\n",
       "      <td>...</td>\n",
       "      <td>2/20/15</td>\n",
       "      <td>93.0</td>\n",
       "      <td>[{'iso_639_1': 'en', 'name': 'English'}]</td>\n",
       "      <td>Released</td>\n",
       "      <td>The Laws of Space and Time are About to be Vio...</td>\n",
       "      <td>Hot Tub Time Machine 2</td>\n",
       "      <td>[{'id': 4379, 'name': 'time travel'}, {'id': 9...</td>\n",
       "      <td>[{'cast_id': 4, 'character': 'Lou', 'credit_id...</td>\n",
       "      <td>[{'credit_id': '59ac067c92514107af02c8c8', 'de...</td>\n",
       "      <td>12314651</td>\n",
       "    </tr>\n",
       "    <tr>\n",
       "      <th>1</th>\n",
       "      <td>2</td>\n",
       "      <td>[{'id': 107674, 'name': 'The Princess Diaries ...</td>\n",
       "      <td>40000000</td>\n",
       "      <td>[{'id': 35, 'name': 'Comedy'}, {'id': 18, 'nam...</td>\n",
       "      <td>NaN</td>\n",
       "      <td>tt0368933</td>\n",
       "      <td>en</td>\n",
       "      <td>The Princess Diaries 2: Royal Engagement</td>\n",
       "      <td>Mia Thermopolis is now a college graduate and ...</td>\n",
       "      <td>8.248895</td>\n",
       "      <td>...</td>\n",
       "      <td>8/6/04</td>\n",
       "      <td>113.0</td>\n",
       "      <td>[{'iso_639_1': 'en', 'name': 'English'}]</td>\n",
       "      <td>Released</td>\n",
       "      <td>It can take a lifetime to find true love; she'...</td>\n",
       "      <td>The Princess Diaries 2: Royal Engagement</td>\n",
       "      <td>[{'id': 2505, 'name': 'coronation'}, {'id': 42...</td>\n",
       "      <td>[{'cast_id': 1, 'character': 'Mia Thermopolis'...</td>\n",
       "      <td>[{'credit_id': '52fe43fe9251416c7502563d', 'de...</td>\n",
       "      <td>95149435</td>\n",
       "    </tr>\n",
       "    <tr>\n",
       "      <th>2</th>\n",
       "      <td>3</td>\n",
       "      <td>NaN</td>\n",
       "      <td>3300000</td>\n",
       "      <td>[{'id': 18, 'name': 'Drama'}]</td>\n",
       "      <td>http://sonyclassics.com/whiplash/</td>\n",
       "      <td>tt2582802</td>\n",
       "      <td>en</td>\n",
       "      <td>Whiplash</td>\n",
       "      <td>Under the direction of a ruthless instructor, ...</td>\n",
       "      <td>64.299990</td>\n",
       "      <td>...</td>\n",
       "      <td>10/10/14</td>\n",
       "      <td>105.0</td>\n",
       "      <td>[{'iso_639_1': 'en', 'name': 'English'}]</td>\n",
       "      <td>Released</td>\n",
       "      <td>The road to greatness can take you to the edge.</td>\n",
       "      <td>Whiplash</td>\n",
       "      <td>[{'id': 1416, 'name': 'jazz'}, {'id': 1523, 'n...</td>\n",
       "      <td>[{'cast_id': 5, 'character': 'Andrew Neimann',...</td>\n",
       "      <td>[{'credit_id': '54d5356ec3a3683ba0000039', 'de...</td>\n",
       "      <td>13092000</td>\n",
       "    </tr>\n",
       "    <tr>\n",
       "      <th>3</th>\n",
       "      <td>4</td>\n",
       "      <td>NaN</td>\n",
       "      <td>1200000</td>\n",
       "      <td>[{'id': 53, 'name': 'Thriller'}, {'id': 18, 'n...</td>\n",
       "      <td>http://kahaanithefilm.com/</td>\n",
       "      <td>tt1821480</td>\n",
       "      <td>hi</td>\n",
       "      <td>Kahaani</td>\n",
       "      <td>Vidya Bagchi (Vidya Balan) arrives in Kolkata ...</td>\n",
       "      <td>3.174936</td>\n",
       "      <td>...</td>\n",
       "      <td>3/9/12</td>\n",
       "      <td>122.0</td>\n",
       "      <td>[{'iso_639_1': 'en', 'name': 'English'}, {'iso...</td>\n",
       "      <td>Released</td>\n",
       "      <td>NaN</td>\n",
       "      <td>Kahaani</td>\n",
       "      <td>[{'id': 10092, 'name': 'mystery'}, {'id': 1054...</td>\n",
       "      <td>[{'cast_id': 1, 'character': 'Vidya Bagchi', '...</td>\n",
       "      <td>[{'credit_id': '52fe48779251416c9108d6eb', 'de...</td>\n",
       "      <td>16000000</td>\n",
       "    </tr>\n",
       "    <tr>\n",
       "      <th>4</th>\n",
       "      <td>5</td>\n",
       "      <td>NaN</td>\n",
       "      <td>0</td>\n",
       "      <td>[{'id': 28, 'name': 'Action'}, {'id': 53, 'nam...</td>\n",
       "      <td>NaN</td>\n",
       "      <td>tt1380152</td>\n",
       "      <td>ko</td>\n",
       "      <td>마린보이</td>\n",
       "      <td>Marine Boy is the story of a former national s...</td>\n",
       "      <td>1.148070</td>\n",
       "      <td>...</td>\n",
       "      <td>2/5/09</td>\n",
       "      <td>118.0</td>\n",
       "      <td>[{'iso_639_1': 'ko', 'name': '한국어/조선말'}]</td>\n",
       "      <td>Released</td>\n",
       "      <td>NaN</td>\n",
       "      <td>Marine Boy</td>\n",
       "      <td>NaN</td>\n",
       "      <td>[{'cast_id': 3, 'character': 'Chun-soo', 'cred...</td>\n",
       "      <td>[{'credit_id': '52fe464b9251416c75073b43', 'de...</td>\n",
       "      <td>3923970</td>\n",
       "    </tr>\n",
       "  </tbody>\n",
       "</table>\n",
       "<p>5 rows × 23 columns</p>\n",
       "</div>"
      ],
      "text/plain": [
       "   id                              belongs_to_collection    budget  \\\n",
       "0   1  [{'id': 313576, 'name': 'Hot Tub Time Machine ...  14000000   \n",
       "1   2  [{'id': 107674, 'name': 'The Princess Diaries ...  40000000   \n",
       "2   3                                                NaN   3300000   \n",
       "3   4                                                NaN   1200000   \n",
       "4   5                                                NaN         0   \n",
       "\n",
       "                                              genres  \\\n",
       "0                     [{'id': 35, 'name': 'Comedy'}]   \n",
       "1  [{'id': 35, 'name': 'Comedy'}, {'id': 18, 'nam...   \n",
       "2                      [{'id': 18, 'name': 'Drama'}]   \n",
       "3  [{'id': 53, 'name': 'Thriller'}, {'id': 18, 'n...   \n",
       "4  [{'id': 28, 'name': 'Action'}, {'id': 53, 'nam...   \n",
       "\n",
       "                            homepage    imdb_id original_language  \\\n",
       "0                                NaN  tt2637294                en   \n",
       "1                                NaN  tt0368933                en   \n",
       "2  http://sonyclassics.com/whiplash/  tt2582802                en   \n",
       "3         http://kahaanithefilm.com/  tt1821480                hi   \n",
       "4                                NaN  tt1380152                ko   \n",
       "\n",
       "                             original_title  \\\n",
       "0                    Hot Tub Time Machine 2   \n",
       "1  The Princess Diaries 2: Royal Engagement   \n",
       "2                                  Whiplash   \n",
       "3                                   Kahaani   \n",
       "4                                      마린보이   \n",
       "\n",
       "                                            overview  popularity  ...  \\\n",
       "0  When Lou, who has become the \"father of the In...    6.575393  ...   \n",
       "1  Mia Thermopolis is now a college graduate and ...    8.248895  ...   \n",
       "2  Under the direction of a ruthless instructor, ...   64.299990  ...   \n",
       "3  Vidya Bagchi (Vidya Balan) arrives in Kolkata ...    3.174936  ...   \n",
       "4  Marine Boy is the story of a former national s...    1.148070  ...   \n",
       "\n",
       "  release_date runtime                                   spoken_languages  \\\n",
       "0      2/20/15    93.0           [{'iso_639_1': 'en', 'name': 'English'}]   \n",
       "1       8/6/04   113.0           [{'iso_639_1': 'en', 'name': 'English'}]   \n",
       "2     10/10/14   105.0           [{'iso_639_1': 'en', 'name': 'English'}]   \n",
       "3       3/9/12   122.0  [{'iso_639_1': 'en', 'name': 'English'}, {'iso...   \n",
       "4       2/5/09   118.0           [{'iso_639_1': 'ko', 'name': '한국어/조선말'}]   \n",
       "\n",
       "     status                                            tagline  \\\n",
       "0  Released  The Laws of Space and Time are About to be Vio...   \n",
       "1  Released  It can take a lifetime to find true love; she'...   \n",
       "2  Released    The road to greatness can take you to the edge.   \n",
       "3  Released                                                NaN   \n",
       "4  Released                                                NaN   \n",
       "\n",
       "                                      title  \\\n",
       "0                    Hot Tub Time Machine 2   \n",
       "1  The Princess Diaries 2: Royal Engagement   \n",
       "2                                  Whiplash   \n",
       "3                                   Kahaani   \n",
       "4                                Marine Boy   \n",
       "\n",
       "                                            Keywords  \\\n",
       "0  [{'id': 4379, 'name': 'time travel'}, {'id': 9...   \n",
       "1  [{'id': 2505, 'name': 'coronation'}, {'id': 42...   \n",
       "2  [{'id': 1416, 'name': 'jazz'}, {'id': 1523, 'n...   \n",
       "3  [{'id': 10092, 'name': 'mystery'}, {'id': 1054...   \n",
       "4                                                NaN   \n",
       "\n",
       "                                                cast  \\\n",
       "0  [{'cast_id': 4, 'character': 'Lou', 'credit_id...   \n",
       "1  [{'cast_id': 1, 'character': 'Mia Thermopolis'...   \n",
       "2  [{'cast_id': 5, 'character': 'Andrew Neimann',...   \n",
       "3  [{'cast_id': 1, 'character': 'Vidya Bagchi', '...   \n",
       "4  [{'cast_id': 3, 'character': 'Chun-soo', 'cred...   \n",
       "\n",
       "                                                crew   revenue  \n",
       "0  [{'credit_id': '59ac067c92514107af02c8c8', 'de...  12314651  \n",
       "1  [{'credit_id': '52fe43fe9251416c7502563d', 'de...  95149435  \n",
       "2  [{'credit_id': '54d5356ec3a3683ba0000039', 'de...  13092000  \n",
       "3  [{'credit_id': '52fe48779251416c9108d6eb', 'de...  16000000  \n",
       "4  [{'credit_id': '52fe464b9251416c75073b43', 'de...   3923970  \n",
       "\n",
       "[5 rows x 23 columns]"
      ]
     },
     "execution_count": 4,
     "metadata": {},
     "output_type": "execute_result"
    }
   ],
   "source": [
    "train.head()\n"
   ]
  },
  {
   "cell_type": "code",
   "execution_count": 5,
   "id": "577c800d",
   "metadata": {},
   "outputs": [
    {
     "data": {
      "text/html": [
       "<div>\n",
       "<style scoped>\n",
       "    .dataframe tbody tr th:only-of-type {\n",
       "        vertical-align: middle;\n",
       "    }\n",
       "\n",
       "    .dataframe tbody tr th {\n",
       "        vertical-align: top;\n",
       "    }\n",
       "\n",
       "    .dataframe thead th {\n",
       "        text-align: right;\n",
       "    }\n",
       "</style>\n",
       "<table border=\"1\" class=\"dataframe\">\n",
       "  <thead>\n",
       "    <tr style=\"text-align: right;\">\n",
       "      <th></th>\n",
       "      <th>id</th>\n",
       "      <th>belongs_to_collection</th>\n",
       "      <th>budget</th>\n",
       "      <th>genres</th>\n",
       "      <th>homepage</th>\n",
       "      <th>imdb_id</th>\n",
       "      <th>original_language</th>\n",
       "      <th>original_title</th>\n",
       "      <th>overview</th>\n",
       "      <th>popularity</th>\n",
       "      <th>...</th>\n",
       "      <th>production_countries</th>\n",
       "      <th>release_date</th>\n",
       "      <th>runtime</th>\n",
       "      <th>spoken_languages</th>\n",
       "      <th>status</th>\n",
       "      <th>tagline</th>\n",
       "      <th>title</th>\n",
       "      <th>Keywords</th>\n",
       "      <th>cast</th>\n",
       "      <th>crew</th>\n",
       "    </tr>\n",
       "  </thead>\n",
       "  <tbody>\n",
       "    <tr>\n",
       "      <th>0</th>\n",
       "      <td>3001</td>\n",
       "      <td>[{'id': 34055, 'name': 'Pokémon Collection', '...</td>\n",
       "      <td>0</td>\n",
       "      <td>[{'id': 12, 'name': 'Adventure'}, {'id': 16, '...</td>\n",
       "      <td>http://www.pokemon.com/us/movies/movie-pokemon...</td>\n",
       "      <td>tt1226251</td>\n",
       "      <td>ja</td>\n",
       "      <td>ディアルガVSパルキアVSダークライ</td>\n",
       "      <td>Ash and friends (this time accompanied by newc...</td>\n",
       "      <td>3.851534</td>\n",
       "      <td>...</td>\n",
       "      <td>[{'iso_3166_1': 'JP', 'name': 'Japan'}, {'iso_...</td>\n",
       "      <td>7/14/07</td>\n",
       "      <td>90.0</td>\n",
       "      <td>[{'iso_639_1': 'en', 'name': 'English'}, {'iso...</td>\n",
       "      <td>Released</td>\n",
       "      <td>Somewhere Between Time &amp; Space... A Legend Is ...</td>\n",
       "      <td>Pokémon: The Rise of Darkrai</td>\n",
       "      <td>[{'id': 11451, 'name': 'pok√©mon'}, {'id': 115...</td>\n",
       "      <td>[{'cast_id': 3, 'character': 'Tonio', 'credit_...</td>\n",
       "      <td>[{'credit_id': '52fe44e7c3a368484e03d683', 'de...</td>\n",
       "    </tr>\n",
       "    <tr>\n",
       "      <th>1</th>\n",
       "      <td>3002</td>\n",
       "      <td>NaN</td>\n",
       "      <td>88000</td>\n",
       "      <td>[{'id': 27, 'name': 'Horror'}, {'id': 878, 'na...</td>\n",
       "      <td>NaN</td>\n",
       "      <td>tt0051380</td>\n",
       "      <td>en</td>\n",
       "      <td>Attack of the 50 Foot Woman</td>\n",
       "      <td>When an abused wife grows to giant size becaus...</td>\n",
       "      <td>3.559789</td>\n",
       "      <td>...</td>\n",
       "      <td>[{'iso_3166_1': 'US', 'name': 'United States o...</td>\n",
       "      <td>5/19/58</td>\n",
       "      <td>65.0</td>\n",
       "      <td>[{'iso_639_1': 'en', 'name': 'English'}]</td>\n",
       "      <td>Released</td>\n",
       "      <td>A titanic beauty spreads a macabre wave of hor...</td>\n",
       "      <td>Attack of the 50 Foot Woman</td>\n",
       "      <td>[{'id': 9748, 'name': 'revenge'}, {'id': 9951,...</td>\n",
       "      <td>[{'cast_id': 2, 'character': 'Nancy Fowler Arc...</td>\n",
       "      <td>[{'credit_id': '55807805c3a3685b1300060b', 'de...</td>\n",
       "    </tr>\n",
       "    <tr>\n",
       "      <th>2</th>\n",
       "      <td>3003</td>\n",
       "      <td>NaN</td>\n",
       "      <td>0</td>\n",
       "      <td>[{'id': 35, 'name': 'Comedy'}, {'id': 10749, '...</td>\n",
       "      <td>NaN</td>\n",
       "      <td>tt0118556</td>\n",
       "      <td>en</td>\n",
       "      <td>Addicted to Love</td>\n",
       "      <td>Good-natured astronomer Sam is devastated when...</td>\n",
       "      <td>8.085194</td>\n",
       "      <td>...</td>\n",
       "      <td>[{'iso_3166_1': 'US', 'name': 'United States o...</td>\n",
       "      <td>5/23/97</td>\n",
       "      <td>100.0</td>\n",
       "      <td>[{'iso_639_1': 'en', 'name': 'English'}]</td>\n",
       "      <td>Released</td>\n",
       "      <td>A Comedy About Lost Loves And Last Laughs</td>\n",
       "      <td>Addicted to Love</td>\n",
       "      <td>[{'id': 931, 'name': 'jealousy'}, {'id': 9673,...</td>\n",
       "      <td>[{'cast_id': 11, 'character': 'Maggie', 'credi...</td>\n",
       "      <td>[{'credit_id': '52fe4330c3a36847f8041367', 'de...</td>\n",
       "    </tr>\n",
       "    <tr>\n",
       "      <th>3</th>\n",
       "      <td>3004</td>\n",
       "      <td>NaN</td>\n",
       "      <td>6800000</td>\n",
       "      <td>[{'id': 18, 'name': 'Drama'}, {'id': 10752, 'n...</td>\n",
       "      <td>http://www.sonyclassics.com/incendies/</td>\n",
       "      <td>tt1255953</td>\n",
       "      <td>fr</td>\n",
       "      <td>Incendies</td>\n",
       "      <td>A mother's last wishes send twins Jeanne and S...</td>\n",
       "      <td>8.596012</td>\n",
       "      <td>...</td>\n",
       "      <td>[{'iso_3166_1': 'CA', 'name': 'Canada'}, {'iso...</td>\n",
       "      <td>9/4/10</td>\n",
       "      <td>130.0</td>\n",
       "      <td>[{'iso_639_1': 'fr', 'name': 'Français'}, {'is...</td>\n",
       "      <td>Released</td>\n",
       "      <td>The search began at the opening of their mothe...</td>\n",
       "      <td>Incendies</td>\n",
       "      <td>[{'id': 378, 'name': 'prison'}, {'id': 539, 'n...</td>\n",
       "      <td>[{'cast_id': 6, 'character': 'Nawal', 'credit_...</td>\n",
       "      <td>[{'credit_id': '56478092c3a36826140043af', 'de...</td>\n",
       "    </tr>\n",
       "    <tr>\n",
       "      <th>4</th>\n",
       "      <td>3005</td>\n",
       "      <td>NaN</td>\n",
       "      <td>2000000</td>\n",
       "      <td>[{'id': 36, 'name': 'History'}, {'id': 99, 'na...</td>\n",
       "      <td>NaN</td>\n",
       "      <td>tt0418753</td>\n",
       "      <td>en</td>\n",
       "      <td>Inside Deep Throat</td>\n",
       "      <td>In 1972, a seemingly typical shoestring budget...</td>\n",
       "      <td>3.217680</td>\n",
       "      <td>...</td>\n",
       "      <td>[{'iso_3166_1': 'US', 'name': 'United States o...</td>\n",
       "      <td>2/11/05</td>\n",
       "      <td>92.0</td>\n",
       "      <td>[{'iso_639_1': 'en', 'name': 'English'}]</td>\n",
       "      <td>Released</td>\n",
       "      <td>It was filmed in 6 days for 25 thousand dollar...</td>\n",
       "      <td>Inside Deep Throat</td>\n",
       "      <td>[{'id': 279, 'name': 'usa'}, {'id': 1228, 'nam...</td>\n",
       "      <td>[{'cast_id': 1, 'character': 'Narrator (voice)...</td>\n",
       "      <td>[{'credit_id': '52fe44ce9251416c75041967', 'de...</td>\n",
       "    </tr>\n",
       "  </tbody>\n",
       "</table>\n",
       "<p>5 rows × 22 columns</p>\n",
       "</div>"
      ],
      "text/plain": [
       "     id                              belongs_to_collection   budget  \\\n",
       "0  3001  [{'id': 34055, 'name': 'Pokémon Collection', '...        0   \n",
       "1  3002                                                NaN    88000   \n",
       "2  3003                                                NaN        0   \n",
       "3  3004                                                NaN  6800000   \n",
       "4  3005                                                NaN  2000000   \n",
       "\n",
       "                                              genres  \\\n",
       "0  [{'id': 12, 'name': 'Adventure'}, {'id': 16, '...   \n",
       "1  [{'id': 27, 'name': 'Horror'}, {'id': 878, 'na...   \n",
       "2  [{'id': 35, 'name': 'Comedy'}, {'id': 10749, '...   \n",
       "3  [{'id': 18, 'name': 'Drama'}, {'id': 10752, 'n...   \n",
       "4  [{'id': 36, 'name': 'History'}, {'id': 99, 'na...   \n",
       "\n",
       "                                            homepage    imdb_id  \\\n",
       "0  http://www.pokemon.com/us/movies/movie-pokemon...  tt1226251   \n",
       "1                                                NaN  tt0051380   \n",
       "2                                                NaN  tt0118556   \n",
       "3             http://www.sonyclassics.com/incendies/  tt1255953   \n",
       "4                                                NaN  tt0418753   \n",
       "\n",
       "  original_language               original_title  \\\n",
       "0                ja           ディアルガVSパルキアVSダークライ   \n",
       "1                en  Attack of the 50 Foot Woman   \n",
       "2                en             Addicted to Love   \n",
       "3                fr                    Incendies   \n",
       "4                en           Inside Deep Throat   \n",
       "\n",
       "                                            overview  popularity  ...  \\\n",
       "0  Ash and friends (this time accompanied by newc...    3.851534  ...   \n",
       "1  When an abused wife grows to giant size becaus...    3.559789  ...   \n",
       "2  Good-natured astronomer Sam is devastated when...    8.085194  ...   \n",
       "3  A mother's last wishes send twins Jeanne and S...    8.596012  ...   \n",
       "4  In 1972, a seemingly typical shoestring budget...    3.217680  ...   \n",
       "\n",
       "                                production_countries release_date runtime  \\\n",
       "0  [{'iso_3166_1': 'JP', 'name': 'Japan'}, {'iso_...      7/14/07    90.0   \n",
       "1  [{'iso_3166_1': 'US', 'name': 'United States o...      5/19/58    65.0   \n",
       "2  [{'iso_3166_1': 'US', 'name': 'United States o...      5/23/97   100.0   \n",
       "3  [{'iso_3166_1': 'CA', 'name': 'Canada'}, {'iso...       9/4/10   130.0   \n",
       "4  [{'iso_3166_1': 'US', 'name': 'United States o...      2/11/05    92.0   \n",
       "\n",
       "                                    spoken_languages    status  \\\n",
       "0  [{'iso_639_1': 'en', 'name': 'English'}, {'iso...  Released   \n",
       "1           [{'iso_639_1': 'en', 'name': 'English'}]  Released   \n",
       "2           [{'iso_639_1': 'en', 'name': 'English'}]  Released   \n",
       "3  [{'iso_639_1': 'fr', 'name': 'Français'}, {'is...  Released   \n",
       "4           [{'iso_639_1': 'en', 'name': 'English'}]  Released   \n",
       "\n",
       "                                             tagline  \\\n",
       "0  Somewhere Between Time & Space... A Legend Is ...   \n",
       "1  A titanic beauty spreads a macabre wave of hor...   \n",
       "2          A Comedy About Lost Loves And Last Laughs   \n",
       "3  The search began at the opening of their mothe...   \n",
       "4  It was filmed in 6 days for 25 thousand dollar...   \n",
       "\n",
       "                          title  \\\n",
       "0  Pokémon: The Rise of Darkrai   \n",
       "1   Attack of the 50 Foot Woman   \n",
       "2              Addicted to Love   \n",
       "3                     Incendies   \n",
       "4            Inside Deep Throat   \n",
       "\n",
       "                                            Keywords  \\\n",
       "0  [{'id': 11451, 'name': 'pok√©mon'}, {'id': 115...   \n",
       "1  [{'id': 9748, 'name': 'revenge'}, {'id': 9951,...   \n",
       "2  [{'id': 931, 'name': 'jealousy'}, {'id': 9673,...   \n",
       "3  [{'id': 378, 'name': 'prison'}, {'id': 539, 'n...   \n",
       "4  [{'id': 279, 'name': 'usa'}, {'id': 1228, 'nam...   \n",
       "\n",
       "                                                cast  \\\n",
       "0  [{'cast_id': 3, 'character': 'Tonio', 'credit_...   \n",
       "1  [{'cast_id': 2, 'character': 'Nancy Fowler Arc...   \n",
       "2  [{'cast_id': 11, 'character': 'Maggie', 'credi...   \n",
       "3  [{'cast_id': 6, 'character': 'Nawal', 'credit_...   \n",
       "4  [{'cast_id': 1, 'character': 'Narrator (voice)...   \n",
       "\n",
       "                                                crew  \n",
       "0  [{'credit_id': '52fe44e7c3a368484e03d683', 'de...  \n",
       "1  [{'credit_id': '55807805c3a3685b1300060b', 'de...  \n",
       "2  [{'credit_id': '52fe4330c3a36847f8041367', 'de...  \n",
       "3  [{'credit_id': '56478092c3a36826140043af', 'de...  \n",
       "4  [{'credit_id': '52fe44ce9251416c75041967', 'de...  \n",
       "\n",
       "[5 rows x 22 columns]"
      ]
     },
     "execution_count": 5,
     "metadata": {},
     "output_type": "execute_result"
    }
   ],
   "source": [
    "test.head()\n"
   ]
  },
  {
   "cell_type": "code",
   "execution_count": 6,
   "id": "f06d946e",
   "metadata": {},
   "outputs": [
    {
     "name": "stdout",
     "output_type": "stream",
     "text": [
      "<class 'pandas.core.frame.DataFrame'>\n",
      "RangeIndex: 3000 entries, 0 to 2999\n",
      "Data columns (total 23 columns):\n",
      " #   Column                 Non-Null Count  Dtype  \n",
      "---  ------                 --------------  -----  \n",
      " 0   id                     3000 non-null   int64  \n",
      " 1   belongs_to_collection  604 non-null    object \n",
      " 2   budget                 3000 non-null   int64  \n",
      " 3   genres                 2993 non-null   object \n",
      " 4   homepage               946 non-null    object \n",
      " 5   imdb_id                3000 non-null   object \n",
      " 6   original_language      3000 non-null   object \n",
      " 7   original_title         3000 non-null   object \n",
      " 8   overview               2992 non-null   object \n",
      " 9   popularity             3000 non-null   float64\n",
      " 10  poster_path            2999 non-null   object \n",
      " 11  production_companies   2844 non-null   object \n",
      " 12  production_countries   2945 non-null   object \n",
      " 13  release_date           3000 non-null   object \n",
      " 14  runtime                2998 non-null   float64\n",
      " 15  spoken_languages       2980 non-null   object \n",
      " 16  status                 3000 non-null   object \n",
      " 17  tagline                2403 non-null   object \n",
      " 18  title                  3000 non-null   object \n",
      " 19  Keywords               2724 non-null   object \n",
      " 20  cast                   2987 non-null   object \n",
      " 21  crew                   2984 non-null   object \n",
      " 22  revenue                3000 non-null   int64  \n",
      "dtypes: float64(2), int64(3), object(18)\n",
      "memory usage: 539.2+ KB\n"
     ]
    }
   ],
   "source": [
    "train.info()"
   ]
  },
  {
   "cell_type": "code",
   "execution_count": 7,
   "id": "4a2b8f8e",
   "metadata": {},
   "outputs": [
    {
     "name": "stdout",
     "output_type": "stream",
     "text": [
      "<class 'pandas.core.frame.DataFrame'>\n",
      "RangeIndex: 4398 entries, 0 to 4397\n",
      "Data columns (total 22 columns):\n",
      " #   Column                 Non-Null Count  Dtype  \n",
      "---  ------                 --------------  -----  \n",
      " 0   id                     4398 non-null   int64  \n",
      " 1   belongs_to_collection  877 non-null    object \n",
      " 2   budget                 4398 non-null   int64  \n",
      " 3   genres                 4382 non-null   object \n",
      " 4   homepage               1420 non-null   object \n",
      " 5   imdb_id                4398 non-null   object \n",
      " 6   original_language      4398 non-null   object \n",
      " 7   original_title         4398 non-null   object \n",
      " 8   overview               4384 non-null   object \n",
      " 9   popularity             4398 non-null   float64\n",
      " 10  poster_path            4397 non-null   object \n",
      " 11  production_companies   4140 non-null   object \n",
      " 12  production_countries   4296 non-null   object \n",
      " 13  release_date           4397 non-null   object \n",
      " 14  runtime                4394 non-null   float64\n",
      " 15  spoken_languages       4356 non-null   object \n",
      " 16  status                 4396 non-null   object \n",
      " 17  tagline                3535 non-null   object \n",
      " 18  title                  4395 non-null   object \n",
      " 19  Keywords               4005 non-null   object \n",
      " 20  cast                   4385 non-null   object \n",
      " 21  crew                   4376 non-null   object \n",
      "dtypes: float64(2), int64(2), object(18)\n",
      "memory usage: 756.0+ KB\n"
     ]
    }
   ],
   "source": [
    "test.info()"
   ]
  },
  {
   "cell_type": "markdown",
   "id": "b40eaa12",
   "metadata": {},
   "source": [
    "Check missing values in train and test"
   ]
  },
  {
   "cell_type": "code",
   "execution_count": 8,
   "id": "1f3db4c6",
   "metadata": {},
   "outputs": [
    {
     "data": {
      "text/plain": [
       "belongs_to_collection    2396\n",
       "homepage                 2054\n",
       "tagline                   597\n",
       "Keywords                  276\n",
       "production_companies      156\n",
       "production_countries       55\n",
       "spoken_languages           20\n",
       "crew                       16\n",
       "cast                       13\n",
       "overview                    8\n",
       "genres                      7\n",
       "runtime                     2\n",
       "poster_path                 1\n",
       "title                       0\n",
       "status                      0\n",
       "id                          0\n",
       "release_date                0\n",
       "popularity                  0\n",
       "original_title              0\n",
       "original_language           0\n",
       "imdb_id                     0\n",
       "budget                      0\n",
       "revenue                     0\n",
       "dtype: int64"
      ]
     },
     "execution_count": 8,
     "metadata": {},
     "output_type": "execute_result"
    }
   ],
   "source": [
    "train.isnull().sum().sort_values(ascending=False)"
   ]
  },
  {
   "cell_type": "code",
   "execution_count": 9,
   "id": "ca5bcecc",
   "metadata": {},
   "outputs": [
    {
     "data": {
      "text/plain": [
       "belongs_to_collection    3521\n",
       "homepage                 2978\n",
       "tagline                   863\n",
       "Keywords                  393\n",
       "production_companies      258\n",
       "production_countries      102\n",
       "spoken_languages           42\n",
       "crew                       22\n",
       "genres                     16\n",
       "overview                   14\n",
       "cast                       13\n",
       "runtime                     4\n",
       "title                       3\n",
       "status                      2\n",
       "poster_path                 1\n",
       "release_date                1\n",
       "popularity                  0\n",
       "original_title              0\n",
       "original_language           0\n",
       "imdb_id                     0\n",
       "budget                      0\n",
       "id                          0\n",
       "dtype: int64"
      ]
     },
     "execution_count": 9,
     "metadata": {},
     "output_type": "execute_result"
    }
   ],
   "source": [
    "test.isnull().sum().sort_values(ascending=False)"
   ]
  },
  {
   "cell_type": "markdown",
   "id": "cf32c44a",
   "metadata": {},
   "source": [
    "We see that there is many empty cells in the sets. Specially in the columns: belongs_to_collection and homepage"
   ]
  },
  {
   "cell_type": "code",
   "execution_count": 10,
   "id": "683b1e33",
   "metadata": {},
   "outputs": [
    {
     "data": {
      "text/plain": [
       "((3000, 23), (4398, 22))"
      ]
     },
     "execution_count": 10,
     "metadata": {},
     "output_type": "execute_result"
    }
   ],
   "source": [
    "train.shape, test.shape"
   ]
  },
  {
   "cell_type": "markdown",
   "id": "59ead6cf",
   "metadata": {},
   "source": [
    "### Belongs To Collection"
   ]
  },
  {
   "cell_type": "code",
   "execution_count": 11,
   "id": "6ee9894b",
   "metadata": {},
   "outputs": [
    {
     "name": "stdout",
     "output_type": "stream",
     "text": [
      "[{'id': 313576, 'name': 'Hot Tub Time Machine Collection', 'poster_path': '/iEhb00TGPucF0b4joM1ieyY026U.jpg', 'backdrop_path': '/noeTVcgpBiD48fDjFVic1Vz7ope.jpg'}]\n",
      "[{'id': 107674, 'name': 'The Princess Diaries Collection', 'poster_path': '/wt5AMbxPTS4Kfjx7Fgm149qPfZl.jpg', 'backdrop_path': '/zSEtYD77pKRJlUPx34BJgUG9v1c.jpg'}]\n",
      "nan\n",
      "nan\n",
      "nan\n",
      "nan\n",
      "nan\n",
      "nan\n",
      "[{'id': 256377, 'name': 'The Muppet Collection', 'poster_path': '/8Ew8EIdFFurMMYjSbWPu1Hl4vLX.jpg', 'backdrop_path': '/1AWd3MM90G47mxtD112gRDxSXY9.jpg'}]\n",
      "nan\n"
     ]
    }
   ],
   "source": [
    "for i in range(10):\n",
    "    print(train['belongs_to_collection'][i])"
   ]
  },
  {
   "cell_type": "markdown",
   "id": "9f4cfc7f",
   "metadata": {},
   "source": [
    "We want to check if having a collection is relevant. Return 1 if movie belongs to a collection, 0 otherwise"
   ]
  },
  {
   "cell_type": "code",
   "execution_count": 12,
   "id": "c1f4ce4c",
   "metadata": {},
   "outputs": [],
   "source": [
    "train['has_collection'] = train['belongs_to_collection'].apply(lambda x: 0 if x is np.nan else 1)\n",
    "test['has_collection'] = test['belongs_to_collection'].apply(lambda x: 0 if x is np.nan else 1)"
   ]
  },
  {
   "cell_type": "markdown",
   "id": "c590e16b",
   "metadata": {},
   "source": [
    "Show the distribution of revenue for movies with or without a collection"
   ]
  },
  {
   "cell_type": "code",
   "execution_count": 13,
   "id": "63133bef",
   "metadata": {},
   "outputs": [
    {
     "data": {
      "text/plain": [
       "<Figure size 576x360 with 0 Axes>"
      ]
     },
     "metadata": {},
     "output_type": "display_data"
    },
    {
     "data": {
      "image/png": "[encoded data removed]",
      "text/plain": [
       "<Figure size 360x360 with 1 Axes>"
      ]
     },
     "metadata": {
      "needs_background": "light"
     },
     "output_type": "display_data"
    }
   ],
   "source": [
    "plt.figure(figsize=(8, 5))\n",
    "sns.catplot(x='has_collection', y='revenue', data=train)\n",
    "plt.xlabel('Does the movie belong to a collection?')\n",
    "plt.ylabel('Revenue')\n",
    "plt.show()"
   ]
  },
  {
   "cell_type": "markdown",
   "id": "0d763bfc",
   "metadata": {},
   "source": [
    "This can be useful. The plots shows us that movies within a collection usually have higher revenues "
   ]
  },
  {
   "cell_type": "code",
   "execution_count": null,
   "id": "2b44dce2",
   "metadata": {},
   "outputs": [],
   "source": []
  },
  {
   "cell_type": "code",
   "execution_count": null,
   "id": "4c82254f",
   "metadata": {},
   "outputs": [],
   "source": []
  },
  {
   "cell_type": "markdown",
   "id": "1337ef97",
   "metadata": {},
   "source": [
    "### Budget"
   ]
  },
  {
   "cell_type": "code",
   "execution_count": 14,
   "id": "2b036d23",
   "metadata": {},
   "outputs": [
    {
     "data": {
      "text/plain": [
       "array([ 14000000,  40000000,   3300000,   1200000,         0,   8000000,\n",
       "         6000000,   1000000,  15000000,  53000000, 102000000,    500000,\n",
       "        26000000,  32000000,  80000000,   4000000,  10000000,  11000000,\n",
       "        45000000,  13000000,  90000000, 140000000,  30000000,  50000000,\n",
       "         3800000,   3000000,  25000000,   3906840,  44000000,  38000000,\n",
       "          560000,  12000000,  20000000, 125000000, 150000000,   5000000,\n",
       "         1500000,   2000000,  85000000,  29000000,    445000,  17000000,\n",
       "        10284523,  43000000,  28000000,   7500000,  35000000,   2500000,\n",
       "        10500000,   7000000,  60000000,  10900000,  31000000,  72000000,\n",
       "        75000000, 100000000,  93000000,  12716953,  18000000,   2400000,\n",
       "        65000000,   9000000, 110000000,  14320000,   3500000,  39200000,\n",
       "        63600000,    125000,  19000000,  12468389,  82500000,    259000,\n",
       "       180000000,   4500000,  24000000,  12600000,  55000000,   3200000,\n",
       "        22000000,   6700000,   2600000,  49000000,   6244087,    800000,\n",
       "        70000000,  23000000,  18339750,   7920000,  12560000,  98000000,\n",
       "         8500000,     11178,   9500000,     24554,     27000,  21000000,\n",
       "        72500000,   2915739,  16000000, 160000000,    225000, 108000000,\n",
       "       175000000, 115000000, 135000000,  71000000,         1,  27000000,\n",
       "        36000000,        12,    350000,   7200000,  20500000, 130000000,\n",
       "         2200000,  15400000,      7000,  13100000,  74500000,   6843500,\n",
       "         7075038,  18500000,  87000000,   3750000,   2900000,    810000,\n",
       "        57000000,    762241,  10300000,   1288000,    250000,  16500000,\n",
       "             113,  48000000,  13500000,    590235,   2800000,     60000,\n",
       "         6500000,    910000,        93, 149000000,  62000000,  78146652,\n",
       "         4100000,   6900000,  79000000,   5800000,  14500000,   2700000,\n",
       "        10400000,     90000,   5500000,    100000,    700000,   8575000,\n",
       "          300000,         6,  39000000,     20000,  11500000,  54000000,\n",
       "       250000000,   6300000,   2650000,   6400000,   4200000,   1271000,\n",
       "       113000000,   2053648,   9250000, 103000000,   8250000,    967686,\n",
       "           50000, 200000000, 105000000,  22500000,   1601792,  94000000,\n",
       "         1300000,         8,  42000000,  33000000,    886000,   3860000,\n",
       "        10721568,    355000,   2196531,  59000000,   9750000,    151000,\n",
       "        88000000,   7700000,  37000000, 185000000,   9600000,    940000,\n",
       "       195000000,    143149, 163000000,    558000,  25530000,    609000,\n",
       "         6788000,  73000000,   9200000,    137731,   1800000,    280379,\n",
       "        56000000,  68000000,  58000000,  95000000,   5600000, 220000000,\n",
       "         3537415,    878000,   3400000,   1250000,   3250000,    747000,\n",
       "         1119000,         5,     65000,  52000000,   1750000,     15000,\n",
       "        13800000,  11800000, 225000000,    802000, 260000000,    120000,\n",
       "          230000,   1700000,  10700000,  61000000,   3900000,    722083,\n",
       "       120000000,     25000,   5700000,    325000,   2883848, 116000000,\n",
       "       165000000, 190000000, 270000000,  46000000,    645180,   5200000,\n",
       "         2410000,   4361898,    950000,    210000,   3705538,   1752000,\n",
       "          650000,    777000,    850000,   4798235,    750000, 145000000,\n",
       "        17500000,  27220000,   9100000,    450000,  44500000,   4520000,\n",
       "          891000,    662141,    400000,   4600000,   1400000,  12500000,\n",
       "          360000,  16400000,   1900000,    180000,   2153912,  41000000,\n",
       "          521873,  34000000,   3837625, 152000000,   3347850,   4437508,\n",
       "        63000000,  17820000,         2,    290000,  13400000,   1070000,\n",
       "        14600000,  97000000,   2159280,  10831173,  13360000,      2500,\n",
       "         3230939, 170000000,   1549000,   3700000,  19800000, 210000000,\n",
       "         2300000,     12000,       592,  31115000,  26400000,  83000000,\n",
       "          855000,   5952000,  11715578,   1379375,  67000000,   1114000,\n",
       "         3196621,    440141,         4, 207000000,   2627000,    134000,\n",
       "         1243000,    550000,    134005,   9900000,    531374,       344,\n",
       "       380000000,   3500159,    600000,    658000,   5300000,  47000000,\n",
       "           74050,   1688000, 300000000,   8272296,   8700000,    200000,\n",
       "         2160000,  19500000,       130,  12823507,   2380000,   1227401,\n",
       "        12156348,   1805000,   6200000,   8376800,   4300000,   1821052,\n",
       "       132000000,   1202007,  23600000,    135000,   4317946,   6600000,\n",
       "        32745300,  97250400,   3600000,  21500000,    103000,   7400000,\n",
       "         1350000,    475000,      5000, 197471676,    852510,   1455000,\n",
       "        41300000,   4900000,  12250000,    463455,        10,   8045760,\n",
       "       245000000,  92000000,    784170,   1089360,   1556288, 280000000,\n",
       "        82000000,      7300,     17000,  14734000,    220000,  11930000,\n",
       "          150000,  16800000,      6000,  49300000,   5400000,   3062000,\n",
       "          410000,   5579750,   3512454, 127500000,   1365000,  64000000,\n",
       "        31500000,    483103,  37665000,   1135654])"
      ]
     },
     "execution_count": 14,
     "metadata": {},
     "output_type": "execute_result"
    }
   ],
   "source": [
    "train['budget'].unique()"
   ]
  },
  {
   "cell_type": "markdown",
   "id": "5c6b52e7",
   "metadata": {},
   "source": [
    "Zeros mean unknown budget"
   ]
  },
  {
   "cell_type": "code",
   "execution_count": 15,
   "id": "278fa844",
   "metadata": {},
   "outputs": [
    {
     "data": {
      "text/plain": [
       "812"
      ]
     },
     "execution_count": 15,
     "metadata": {},
     "output_type": "execute_result"
    }
   ],
   "source": [
    "train[train['budget'] == 0].shape[0]"
   ]
  },
  {
   "cell_type": "markdown",
   "id": "c12c3be9",
   "metadata": {},
   "source": [
    "There is many unknown budgets in the sets"
   ]
  },
  {
   "cell_type": "code",
   "execution_count": 16,
   "id": "ab0ff8d7",
   "metadata": {},
   "outputs": [
    {
     "data": {
      "text/plain": [
       "<matplotlib.collections.PathCollection at 0x7f9209c27250>"
      ]
     },
     "execution_count": 16,
     "metadata": {},
     "output_type": "execute_result"
    },
    {
     "data": {
      "image/png": "[encoded data removed]",
      "text/plain": [
       "<Figure size 864x648 with 1 Axes>"
      ]
     },
     "metadata": {
      "needs_background": "light"
     },
     "output_type": "display_data"
    }
   ],
   "source": [
    "plt.subplots(figsize=(12,9))\n",
    "plt.scatter(x=train['budget'], y=train['revenue'], alpha=0.2)"
   ]
  },
  {
   "cell_type": "markdown",
   "id": "5243d7de",
   "metadata": {},
   "source": [
    "We see that budget and revenue is related somewhat lineary. It means that budget is very relevant."
   ]
  },
  {
   "cell_type": "markdown",
   "id": "8b6c4a62",
   "metadata": {},
   "source": [
    "### Genres"
   ]
  },
  {
   "cell_type": "code",
   "execution_count": 17,
   "id": "913d31c8",
   "metadata": {},
   "outputs": [
    {
     "name": "stdout",
     "output_type": "stream",
     "text": [
      "[{'id': 35, 'name': 'Comedy'}]\n",
      "[{'id': 35, 'name': 'Comedy'}, {'id': 18, 'name': 'Drama'}, {'id': 10751, 'name': 'Family'}, {'id': 10749, 'name': 'Romance'}]\n",
      "[{'id': 18, 'name': 'Drama'}]\n",
      "[{'id': 53, 'name': 'Thriller'}, {'id': 18, 'name': 'Drama'}]\n",
      "[{'id': 28, 'name': 'Action'}, {'id': 53, 'name': 'Thriller'}]\n",
      "[{'id': 16, 'name': 'Animation'}, {'id': 12, 'name': 'Adventure'}, {'id': 10751, 'name': 'Family'}]\n",
      "[{'id': 27, 'name': 'Horror'}, {'id': 53, 'name': 'Thriller'}]\n",
      "[{'id': 99, 'name': 'Documentary'}]\n",
      "[{'id': 28, 'name': 'Action'}, {'id': 35, 'name': 'Comedy'}, {'id': 10402, 'name': 'Music'}, {'id': 10751, 'name': 'Family'}, {'id': 12, 'name': 'Adventure'}]\n",
      "[{'id': 35, 'name': 'Comedy'}, {'id': 10402, 'name': 'Music'}]\n"
     ]
    }
   ],
   "source": [
    "for i in range(10):\n",
    "    print(train['genres'][i])"
   ]
  },
  {
   "cell_type": "markdown",
   "id": "da78c987",
   "metadata": {},
   "source": [
    "Some of the movies have more than one type of genre"
   ]
  },
  {
   "cell_type": "markdown",
   "id": "a7ad48e0",
   "metadata": {},
   "source": [
    "Converting genres from JSON format to dictionary format to analyse them better. Got this information from: https://www.kaggle.com/zimulyu/tmdb-box-office-pred"
   ]
  },
  {
   "cell_type": "code",
   "execution_count": 18,
   "id": "e1a3d9a7",
   "metadata": {},
   "outputs": [],
   "source": [
    "def text_to_dict(df):\n",
    "    df['genres'] = df['genres'].apply(lambda x: {} if pd.isna(x) else ast.literal_eval(x))\n",
    "    return df\n",
    "\n",
    "train = text_to_dict(train)\n",
    "test = text_to_dict(test)"
   ]
  },
  {
   "cell_type": "markdown",
   "id": "befe5007",
   "metadata": {},
   "source": [
    "We want to extract genres of each movie"
   ]
  },
  {
   "cell_type": "code",
   "execution_count": 19,
   "id": "a5b814a6",
   "metadata": {},
   "outputs": [
    {
     "data": {
      "text/plain": [
       "0                                 [Comedy]\n",
       "1         [Comedy, Drama, Family, Romance]\n",
       "2                                  [Drama]\n",
       "3                        [Thriller, Drama]\n",
       "4                       [Action, Thriller]\n",
       "                       ...                \n",
       "2995                     [Comedy, Romance]\n",
       "2996                        [Drama, Music]\n",
       "2997    [Crime, Action, Mystery, Thriller]\n",
       "2998                     [Comedy, Romance]\n",
       "2999           [Thriller, Action, Mystery]\n",
       "Name: genres, Length: 3000, dtype: object"
      ]
     },
     "execution_count": 19,
     "metadata": {},
     "output_type": "execute_result"
    }
   ],
   "source": [
    "genres_per = train['genres'].apply(lambda x: [i['name'] for i in x] if x != {} else [])\n",
    "genres_per"
   ]
  },
  {
   "cell_type": "code",
   "execution_count": 20,
   "id": "eca1cd8a",
   "metadata": {},
   "outputs": [
    {
     "name": "stderr",
     "output_type": "stream",
     "text": [
      "/opt/anaconda3/envs/dat158/lib/python3.9/site-packages/seaborn/_decorators.py:36: FutureWarning: Pass the following variables as keyword args: x, y. From version 0.12, the only valid positional argument will be `data`, and passing other arguments without an explicit keyword will result in an error or misinterpretation.\n",
      "  warnings.warn(\n"
     ]
    },
    {
     "data": {
      "image/png": "[encoded data removed]",
      "text/plain": [
       "<Figure size 576x360 with 1 Axes>"
      ]
     },
     "metadata": {
      "needs_background": "light"
     },
     "output_type": "display_data"
    }
   ],
   "source": [
    "from collections import Counter\n",
    "\n",
    "genres_count = Counter([i for j in genres_per for i in j]).most_common()\n",
    "fig = plt.figure(figsize=(8, 5))\n",
    "sns.barplot([val[1] for val in genres_count],[val[0] for val in genres_count])\n",
    "plt.xlabel('Count')\n",
    "plt.title('Top 20 Genre Count')\n",
    "plt.show()"
   ]
  },
  {
   "cell_type": "markdown",
   "id": "c4ab1d75",
   "metadata": {},
   "source": [
    "Shows which genre is the most common"
   ]
  },
  {
   "cell_type": "markdown",
   "id": "2124dafe",
   "metadata": {},
   "source": [
    "### Homepage"
   ]
  },
  {
   "cell_type": "code",
   "execution_count": 21,
   "id": "70dac137",
   "metadata": {},
   "outputs": [
    {
     "data": {
      "text/plain": [
       "NaN                                      2054\n",
       "http://www.transformersmovie.com/           4\n",
       "http://www.thehobbit.com/                   2\n",
       "http://www.lordoftherings.net/              2\n",
       "http://www.idanielblake.co.uk/              1\n",
       "                                         ... \n",
       "http://movies.disney.com/the-pacifier       1\n",
       "http://admiralfilm.ru/                      1\n",
       "http://www.jackreachermovie.com/            1\n",
       "http://www.sleepdealer.com/                 1\n",
       "http://www.abductionthefilm.com/            1\n",
       "Name: homepage, Length: 942, dtype: int64"
      ]
     },
     "execution_count": 21,
     "metadata": {},
     "output_type": "execute_result"
    }
   ],
   "source": [
    "train['homepage'].value_counts(dropna=False)"
   ]
  },
  {
   "cell_type": "markdown",
   "id": "739f7673",
   "metadata": {},
   "source": [
    "We see that there is many movies without a homepage, so we want to apply a has_homepage feature."
   ]
  },
  {
   "cell_type": "code",
   "execution_count": 22,
   "id": "0c56f256",
   "metadata": {},
   "outputs": [],
   "source": [
    "train['has_homepage'] = train['homepage'].apply(lambda x: 0 if x is np.nan else 1)\n",
    "test['has_homepage'] = test['homepage'].apply(lambda x: 0 if x is np.nan else 1)"
   ]
  },
  {
   "cell_type": "code",
   "execution_count": 23,
   "id": "f2d00346",
   "metadata": {},
   "outputs": [
    {
     "data": {
      "text/plain": [
       "<seaborn.axisgrid.FacetGrid at 0x7f9209ce31c0>"
      ]
     },
     "execution_count": 23,
     "metadata": {},
     "output_type": "execute_result"
    },
    {
     "data": {
      "image/png": "[encoded data removed]",
      "text/plain": [
       "<Figure size 360x360 with 1 Axes>"
      ]
     },
     "metadata": {
      "needs_background": "light"
     },
     "output_type": "display_data"
    }
   ],
   "source": [
    "sns.catplot(x='has_homepage', y='revenue', data=train)"
   ]
  },
  {
   "cell_type": "markdown",
   "id": "fb35f4c8",
   "metadata": {},
   "source": [
    "This scatter plot shows that having a homepage for the movie affects its revenue"
   ]
  },
  {
   "cell_type": "code",
   "execution_count": 24,
   "id": "5dad1b16",
   "metadata": {},
   "outputs": [],
   "source": [
    "#train.drop(['homepage'], axis=1, inplace=True)"
   ]
  },
  {
   "cell_type": "markdown",
   "id": "859d215c",
   "metadata": {},
   "source": [
    "### Imdb Id"
   ]
  },
  {
   "cell_type": "code",
   "execution_count": 25,
   "id": "8e35fe0e",
   "metadata": {},
   "outputs": [
    {
     "data": {
      "text/plain": [
       "0       tt2637294\n",
       "1       tt0368933\n",
       "2       tt2582802\n",
       "3       tt1821480\n",
       "4       tt1380152\n",
       "          ...    \n",
       "2995    tt0109403\n",
       "2996    tt2364975\n",
       "2997    tt0116908\n",
       "2998    tt0343135\n",
       "2999    tt1600195\n",
       "Name: imdb_id, Length: 3000, dtype: object"
      ]
     },
     "execution_count": 25,
     "metadata": {},
     "output_type": "execute_result"
    }
   ],
   "source": [
    "train['imdb_id']"
   ]
  },
  {
   "cell_type": "code",
   "execution_count": 26,
   "id": "4da2baef",
   "metadata": {},
   "outputs": [],
   "source": [
    "#train.drop['imdb_id'], axis=1, inplace=True"
   ]
  },
  {
   "cell_type": "markdown",
   "id": "932f9965",
   "metadata": {},
   "source": [
    "### Original Language"
   ]
  },
  {
   "cell_type": "code",
   "execution_count": 27,
   "id": "1fa9e91f",
   "metadata": {},
   "outputs": [
    {
     "name": "stdout",
     "output_type": "stream",
     "text": [
      "Number of original languages:  36\n"
     ]
    },
    {
     "data": {
      "text/plain": [
       "en    2575\n",
       "fr      78\n",
       "ru      47\n",
       "es      43\n",
       "hi      42\n",
       "ja      37\n",
       "it      24\n",
       "cn      20\n",
       "ko      20\n",
       "zh      19\n",
       "de      18\n",
       "ta      16\n",
       "sv       8\n",
       "nl       6\n",
       "pt       6\n",
       "fa       5\n",
       "da       5\n",
       "ro       4\n",
       "hu       3\n",
       "tr       3\n",
       "no       2\n",
       "ml       2\n",
       "pl       2\n",
       "te       2\n",
       "fi       2\n",
       "ur       1\n",
       "he       1\n",
       "el       1\n",
       "ar       1\n",
       "nb       1\n",
       "vi       1\n",
       "mr       1\n",
       "cs       1\n",
       "sr       1\n",
       "bn       1\n",
       "id       1\n",
       "Name: original_language, dtype: int64"
      ]
     },
     "execution_count": 27,
     "metadata": {},
     "output_type": "execute_result"
    }
   ],
   "source": [
    "print(\"Number of original languages: \", len(train['original_language'].value_counts(dropna=False)))\n",
    "train['original_language'].value_counts(dropna=False)\n"
   ]
  },
  {
   "cell_type": "code",
   "execution_count": 28,
   "id": "f00f4983",
   "metadata": {},
   "outputs": [
    {
     "name": "stdout",
     "output_type": "stream",
     "text": [
      "Number of original languages:  39\n"
     ]
    },
    {
     "data": {
      "text/plain": [
       "en    3776\n",
       "fr     121\n",
       "hi      76\n",
       "ru      62\n",
       "ja      53\n",
       "es      52\n",
       "it      32\n",
       "de      31\n",
       "ko      29\n",
       "zh      27\n",
       "cn      21\n",
       "ta      15\n",
       "sv      12\n",
       "da      12\n",
       "ml      10\n",
       "pt       7\n",
       "te       7\n",
       "tr       6\n",
       "ro       5\n",
       "nl       5\n",
       "th       5\n",
       "he       5\n",
       "no       3\n",
       "pl       3\n",
       "fi       2\n",
       "xx       2\n",
       "cs       2\n",
       "bn       2\n",
       "bm       2\n",
       "sr       2\n",
       "el       2\n",
       "id       2\n",
       "is       1\n",
       "kn       1\n",
       "ca       1\n",
       "ur       1\n",
       "af       1\n",
       "ka       1\n",
       "hu       1\n",
       "Name: original_language, dtype: int64"
      ]
     },
     "execution_count": 28,
     "metadata": {},
     "output_type": "execute_result"
    }
   ],
   "source": [
    "print(\"Number of original languages: \", len(test['original_language'].value_counts(dropna=False)))\n",
    "test['original_language'].value_counts(dropna=False)"
   ]
  },
  {
   "cell_type": "code",
   "execution_count": 29,
   "id": "40489b49",
   "metadata": {},
   "outputs": [
    {
     "data": {
      "text/plain": [
       "<AxesSubplot:xlabel='original_language', ylabel='revenue'>"
      ]
     },
     "execution_count": 29,
     "metadata": {},
     "output_type": "execute_result"
    },
    {
     "data": {
      "image/png": "[encoded data removed]",
      "text/plain": [
       "<Figure size 864x648 with 1 Axes>"
      ]
     },
     "metadata": {
      "needs_background": "light"
     },
     "output_type": "display_data"
    }
   ],
   "source": [
    "plt.subplots(figsize=(12, 9))\n",
    "sns.boxplot(x=train['original_language'], y=train['revenue'])"
   ]
  },
  {
   "cell_type": "markdown",
   "id": "57fc5bc4",
   "metadata": {},
   "source": [
    "The plots shows us that the movies with most revenue have english as original language. With this in mind we make a new feature (is English Original Language)"
   ]
  },
  {
   "cell_type": "code",
   "execution_count": 30,
   "id": "91c48774",
   "metadata": {},
   "outputs": [],
   "source": [
    "train['is_en_original_language'] = train['original_language'].apply(lambda x: 1 if x == 'en' else 0)\n",
    "test['is_en_original_language'] = test['original_language'].apply(lambda x: 1 if x == 'en' else 0)"
   ]
  },
  {
   "cell_type": "code",
   "execution_count": 31,
   "id": "899013aa",
   "metadata": {},
   "outputs": [
    {
     "data": {
      "text/plain": [
       "<seaborn.axisgrid.FacetGrid at 0x7f920add29d0>"
      ]
     },
     "execution_count": 31,
     "metadata": {},
     "output_type": "execute_result"
    },
    {
     "data": {
      "image/png": "[encoded data removed]",
      "text/plain": [
       "<Figure size 360x360 with 1 Axes>"
      ]
     },
     "metadata": {
      "needs_background": "light"
     },
     "output_type": "display_data"
    }
   ],
   "source": [
    "sns.catplot(x='is_en_original_language', y='revenue', data=train)"
   ]
  },
  {
   "cell_type": "markdown",
   "id": "b3a2c196",
   "metadata": {},
   "source": [
    "Here we see how great the difference in revenue is between english and other original languages. This will come in handy"
   ]
  },
  {
   "cell_type": "markdown",
   "id": "89848637",
   "metadata": {},
   "source": [
    "### Overview"
   ]
  },
  {
   "cell_type": "code",
   "execution_count": 32,
   "id": "ed368a60",
   "metadata": {},
   "outputs": [
    {
     "name": "stdout",
     "output_type": "stream",
     "text": [
      "When Lou, who has become the \"father of the Internet,\" is shot by an unknown assailant, Jacob and Nick fire up the time machine again to save their friend.\n",
      "--------------------------------------------------------------\n",
      "Mia Thermopolis is now a college graduate and on her way to Genovia to take up her duties as princess. Her best friend Lilly also joins her for the summer. Mia continues her 'princess lessons'- riding horses side-saddle, archery, and other royal. But her complicated life is turned upside down once again when she not only learns that she is to take the crown as queen earlier than expected...\n",
      "--------------------------------------------------------------\n",
      "Under the direction of a ruthless instructor, a talented young drummer begins to pursue perfection at any cost, even his humanity.\n",
      "--------------------------------------------------------------\n",
      "Vidya Bagchi (Vidya Balan) arrives in Kolkata from London to find her missing husband Arnab Bagchi. Seven months pregnant and alone in a festive city, she begins a relentless search for her husband. With nothing to rely on except fragments from her memories about him, all clues seem to reach a dead end when everyone tries to convince Vidya that her husband does not exist. She slowly realises that nothing is what it seems. In a city soaked in lies, Vidya is determined to unravel the truth about her husband - for herself and her unborn child - even at the cost of her own life.\n",
      "--------------------------------------------------------------\n",
      "Marine Boy is the story of a former national swimmer who finds himself in debt, and out of desperation is employed as a mule by a gangster boss, smuggling drugs by sea.\n",
      "--------------------------------------------------------------\n"
     ]
    }
   ],
   "source": [
    "for i in range(5):\n",
    "    print(train['overview'][i])\n",
    "    print(\"--------------------------------------------------------------\")"
   ]
  },
  {
   "cell_type": "markdown",
   "id": "dfc1c8d4",
   "metadata": {},
   "source": [
    "Overview is not going to help us"
   ]
  },
  {
   "cell_type": "code",
   "execution_count": 33,
   "id": "9c8f571c",
   "metadata": {},
   "outputs": [],
   "source": [
    "#train.drop(['overview'], axis=1, inplace=True)\n",
    "#test.drop(['overview'], axis=1, inplace=True)"
   ]
  },
  {
   "cell_type": "markdown",
   "id": "13c0b8bd",
   "metadata": {},
   "source": [
    "### Popularity"
   ]
  },
  {
   "cell_type": "code",
   "execution_count": 34,
   "id": "2a42f176",
   "metadata": {},
   "outputs": [
    {
     "data": {
      "image/png": "[encoded data removed]",
      "text/plain": [
       "<Figure size 432x432 with 3 Axes>"
      ]
     },
     "metadata": {
      "needs_background": "light"
     },
     "output_type": "display_data"
    }
   ],
   "source": [
    "# plot popularity vs revenue\n",
    "sns.jointplot(x=\"popularity\", y=\"revenue\", alpha=0.2, data=train)\n",
    "plt.show()"
   ]
  },
  {
   "cell_type": "markdown",
   "id": "f7b0b0cd",
   "metadata": {},
   "source": [
    "Popularity doesn´t have obvious relationship with the revenue, but it´s still interesting."
   ]
  },
  {
   "cell_type": "markdown",
   "id": "87a4209a",
   "metadata": {},
   "source": [
    "### Production companies"
   ]
  },
  {
   "cell_type": "code",
   "execution_count": 35,
   "id": "b14c6a55",
   "metadata": {},
   "outputs": [
    {
     "name": "stdout",
     "output_type": "stream",
     "text": [
      "0 [{'name': 'Paramount Pictures', 'id': 4}, {'name': 'United Artists', 'id': 60}, {'name': 'Metro-Goldwyn-Mayer (MGM)', 'id': 8411}]\n",
      "1 [{'name': 'Walt Disney Pictures', 'id': 2}]\n",
      "2 [{'name': 'Bold Films', 'id': 2266}, {'name': 'Blumhouse Productions', 'id': 3172}, {'name': 'Right of Way Films', 'id': 32157}]\n",
      "3 nan\n",
      "4 nan\n"
     ]
    }
   ],
   "source": [
    "for i, e in enumerate(train['production_companies'][:5]):\n",
    "    print(i, e)"
   ]
  },
  {
   "cell_type": "markdown",
   "id": "e594bdd4",
   "metadata": {},
   "source": [
    "One movie can have many production companies.\n",
    "We will convert this column from JSON as well to analyze it better"
   ]
  },
  {
   "cell_type": "code",
   "execution_count": 36,
   "id": "37fb1443",
   "metadata": {},
   "outputs": [],
   "source": [
    "def text_to_dict(df):\n",
    "    df['production_companies'] = df['production_companies'].apply(lambda x: {} if pd.isna(x) else ast.literal_eval(x))\n",
    "    return df\n",
    "\n",
    "train = text_to_dict(train)\n",
    "test = text_to_dict(test)"
   ]
  },
  {
   "cell_type": "code",
   "execution_count": 37,
   "id": "6987c7f2",
   "metadata": {},
   "outputs": [
    {
     "name": "stderr",
     "output_type": "stream",
     "text": [
      "/opt/anaconda3/envs/dat158/lib/python3.9/site-packages/seaborn/_decorators.py:36: FutureWarning: Pass the following variables as keyword args: x, y. From version 0.12, the only valid positional argument will be `data`, and passing other arguments without an explicit keyword will result in an error or misinterpretation.\n",
      "  warnings.warn(\n"
     ]
    },
    {
     "data": {
      "image/png": "[encoded data removed]",
      "text/plain": [
       "<Figure size 576x360 with 1 Axes>"
      ]
     },
     "metadata": {
      "needs_background": "light"
     },
     "output_type": "display_data"
    }
   ],
   "source": [
    "companies_per = train['production_companies'].apply(lambda x: [i['name'] for i in x] if x != {} else [])\n",
    "companies_count = Counter([i for j in companies_per for i in j]).most_common(20)\n",
    "fig = plt.figure(figsize=(8, 5))\n",
    "sns.barplot([val[1] for val in companies_count],[val[0] for val in companies_count])\n",
    "plt.xlabel('Count')\n",
    "plt.title('Top 20 Production Company Count')\n",
    "plt.show()"
   ]
  },
  {
   "cell_type": "markdown",
   "id": "299df270",
   "metadata": {},
   "source": [
    "Shows top 20 production company (ranked by number of movies)"
   ]
  },
  {
   "cell_type": "markdown",
   "id": "2aeb4af1",
   "metadata": {},
   "source": [
    "### Production countries"
   ]
  },
  {
   "cell_type": "code",
   "execution_count": 38,
   "id": "cbbf5358",
   "metadata": {},
   "outputs": [
    {
     "name": "stdout",
     "output_type": "stream",
     "text": [
      "0 [{'iso_3166_1': 'US', 'name': 'United States of America'}]\n",
      "1 [{'iso_3166_1': 'US', 'name': 'United States of America'}]\n",
      "2 [{'iso_3166_1': 'US', 'name': 'United States of America'}]\n",
      "3 [{'iso_3166_1': 'IN', 'name': 'India'}]\n",
      "4 [{'iso_3166_1': 'KR', 'name': 'South Korea'}]\n",
      "5 nan\n",
      "6 [{'iso_3166_1': 'US', 'name': 'United States of America'}, {'iso_3166_1': 'CA', 'name': 'Canada'}]\n",
      "7 nan\n",
      "8 [{'iso_3166_1': 'US', 'name': 'United States of America'}]\n",
      "9 [{'iso_3166_1': 'US', 'name': 'United States of America'}]\n",
      "10 [{'iso_3166_1': 'US', 'name': 'United States of America'}]\n",
      "11 [{'iso_3166_1': 'US', 'name': 'United States of America'}]\n",
      "12 [{'iso_3166_1': 'US', 'name': 'United States of America'}]\n",
      "13 [{'iso_3166_1': 'US', 'name': 'United States of America'}]\n",
      "14 [{'iso_3166_1': 'US', 'name': 'United States of America'}]\n",
      "15 [{'iso_3166_1': 'RS', 'name': 'Serbia'}]\n",
      "16 [{'iso_3166_1': 'US', 'name': 'United States of America'}]\n",
      "17 [{'iso_3166_1': 'GB', 'name': 'United Kingdom'}]\n",
      "18 [{'iso_3166_1': 'AT', 'name': 'Austria'}, {'iso_3166_1': 'DE', 'name': 'Germany'}, {'iso_3166_1': 'GB', 'name': 'United Kingdom'}]\n",
      "19 [{'iso_3166_1': 'FR', 'name': 'France'}]\n"
     ]
    }
   ],
   "source": [
    "for i, e in enumerate(train['production_countries'][:20]):\n",
    "    print(i, e)"
   ]
  },
  {
   "cell_type": "markdown",
   "id": "e14e86ad",
   "metadata": {},
   "source": [
    "Since most of the movies are made in USA, it would be useful to have a feature 'us_production'"
   ]
  },
  {
   "cell_type": "code",
   "execution_count": 39,
   "id": "69e16687",
   "metadata": {},
   "outputs": [],
   "source": [
    "def is_US(a):\n",
    "    if 'US' in a:\n",
    "        return 1\n",
    "    else: return 0\n",
    "\n",
    "train['us_production'] = train['production_countries'].apply(lambda x: 0 if x is np.nan else is_US(x))\n",
    "test['us_production'] = test['production_countries'].apply(lambda x: 0 if x is np.nan else is_US(x))"
   ]
  },
  {
   "cell_type": "code",
   "execution_count": 40,
   "id": "9c17bbee",
   "metadata": {},
   "outputs": [
    {
     "data": {
      "text/plain": [
       "<seaborn.axisgrid.FacetGrid at 0x7f920ae35970>"
      ]
     },
     "execution_count": 40,
     "metadata": {},
     "output_type": "execute_result"
    },
    {
     "data": {
      "image/png": "[encoded data removed]",
      "text/plain": [
       "<Figure size 360x360 with 1 Axes>"
      ]
     },
     "metadata": {
      "needs_background": "light"
     },
     "output_type": "display_data"
    }
   ],
   "source": [
    "sns.catplot(x='us_production', y='revenue', alpha=0.2, data=train)"
   ]
  },
  {
   "cell_type": "markdown",
   "id": "2964e1b5",
   "metadata": {},
   "source": [
    "### Release date"
   ]
  },
  {
   "cell_type": "markdown",
   "id": "5e604a42",
   "metadata": {},
   "source": [
    "Since only last two digits of year are provided, we adjust it to get the correct year"
   ]
  },
  {
   "cell_type": "code",
   "execution_count": 41,
   "id": "461f6b84",
   "metadata": {},
   "outputs": [],
   "source": [
    "train[['release_month','release_day','release_year']]=train['release_date'].str.split('/',expand=True).replace(np.nan, -1).astype(int)\n",
    "\n",
    "# Some rows have 4 digits of year instead of 2, that's why I am applying (train['release_year'] < 100) this condition\n",
    "train.loc[ (train['release_year'] <= 19) & (train['release_year'] < 100), \"release_year\"] += 2000\n",
    "train.loc[ (train['release_year'] > 19)  & (train['release_year'] < 100), \"release_year\"] += 1900\n",
    "\n",
    "releaseDate = pd.to_datetime(train['release_date']) "
   ]
  },
  {
   "cell_type": "code",
   "execution_count": 42,
   "id": "8ff4c719",
   "metadata": {},
   "outputs": [
    {
     "data": {
      "text/plain": [
       "<matplotlib.collections.PathCollection at 0x7f920c5ab700>"
      ]
     },
     "execution_count": 42,
     "metadata": {},
     "output_type": "execute_result"
    },
    {
     "data": {
      "image/png": "[encoded data removed]",
      "text/plain": [
       "<Figure size 864x648 with 1 Axes>"
      ]
     },
     "metadata": {
      "needs_background": "light"
     },
     "output_type": "display_data"
    }
   ],
   "source": [
    "plt.subplots(figsize=(12, 9))\n",
    "plt.scatter(x=train['release_year'], y=train['revenue'], alpha=0.2)"
   ]
  },
  {
   "cell_type": "markdown",
   "id": "3bceb0b8",
   "metadata": {},
   "source": [
    "We see that newer movies have higher revenue"
   ]
  },
  {
   "cell_type": "code",
   "execution_count": null,
   "id": "719f1b05",
   "metadata": {},
   "outputs": [],
   "source": []
  },
  {
   "cell_type": "markdown",
   "id": "d92fe83c",
   "metadata": {},
   "source": []
  },
  {
   "cell_type": "markdown",
   "id": "e32c02ab",
   "metadata": {},
   "source": [
    "### Status"
   ]
  },
  {
   "cell_type": "code",
   "execution_count": 43,
   "id": "49666bd8",
   "metadata": {},
   "outputs": [
    {
     "data": {
      "text/plain": [
       "Released    2996\n",
       "Rumored        4\n",
       "Name: status, dtype: int64"
      ]
     },
     "execution_count": 43,
     "metadata": {},
     "output_type": "execute_result"
    }
   ],
   "source": [
    "train['status'].value_counts()"
   ]
  },
  {
   "cell_type": "code",
   "execution_count": 44,
   "id": "89a0be3f",
   "metadata": {},
   "outputs": [
    {
     "data": {
      "text/html": [
       "<div>\n",
       "<style scoped>\n",
       "    .dataframe tbody tr th:only-of-type {\n",
       "        vertical-align: middle;\n",
       "    }\n",
       "\n",
       "    .dataframe tbody tr th {\n",
       "        vertical-align: top;\n",
       "    }\n",
       "\n",
       "    .dataframe thead th {\n",
       "        text-align: right;\n",
       "    }\n",
       "</style>\n",
       "<table border=\"1\" class=\"dataframe\">\n",
       "  <thead>\n",
       "    <tr style=\"text-align: right;\">\n",
       "      <th></th>\n",
       "      <th>status</th>\n",
       "      <th>revenue</th>\n",
       "    </tr>\n",
       "  </thead>\n",
       "  <tbody>\n",
       "    <tr>\n",
       "      <th>609</th>\n",
       "      <td>Rumored</td>\n",
       "      <td>273644</td>\n",
       "    </tr>\n",
       "    <tr>\n",
       "      <th>1007</th>\n",
       "      <td>Rumored</td>\n",
       "      <td>60</td>\n",
       "    </tr>\n",
       "    <tr>\n",
       "      <th>1216</th>\n",
       "      <td>Rumored</td>\n",
       "      <td>13418091</td>\n",
       "    </tr>\n",
       "    <tr>\n",
       "      <th>1618</th>\n",
       "      <td>Rumored</td>\n",
       "      <td>229000</td>\n",
       "    </tr>\n",
       "  </tbody>\n",
       "</table>\n",
       "</div>"
      ],
      "text/plain": [
       "       status   revenue\n",
       "609   Rumored    273644\n",
       "1007  Rumored        60\n",
       "1216  Rumored  13418091\n",
       "1618  Rumored    229000"
      ]
     },
     "execution_count": 44,
     "metadata": {},
     "output_type": "execute_result"
    }
   ],
   "source": [
    "train.loc[train['status'] == 'Rumored'][['status','revenue']]"
   ]
  },
  {
   "cell_type": "markdown",
   "id": "2d729895",
   "metadata": {},
   "source": [
    "4 movies are yet to release and revenue is already given"
   ]
  },
  {
   "cell_type": "markdown",
   "id": "0d7a5c09",
   "metadata": {},
   "source": [
    "### Cast"
   ]
  },
  {
   "cell_type": "code",
   "execution_count": 45,
   "id": "c116afab",
   "metadata": {},
   "outputs": [
    {
     "name": "stdout",
     "output_type": "stream",
     "text": [
      "0 [{'cast_id': 4, 'character': 'Lou', 'credit_id': '52fe4ee7c3a36847f82afae7', 'gender': 2, 'id': 52997, 'name': 'Rob Corddry', 'order': 0, 'profile_path': '/k2zJL0V1nEZuFT08xUdOd3ucfXz.jpg'}, {'cast_id': 5, 'character': 'Nick', 'credit_id': '52fe4ee7c3a36847f82afaeb', 'gender': 2, 'id': 64342, 'name': 'Craig Robinson', 'order': 1, 'profile_path': '/tVaRMkJXOEVhYxtnnFuhqW0Rjzz.jpg'}, {'cast_id': 6, 'character': 'Jacob', 'credit_id': '52fe4ee7c3a36847f82afaef', 'gender': 2, 'id': 54729, 'name': 'Clark Duke', 'order': 2, 'profile_path': '/oNzK0umwm5Wn0wyEbOy6TVJCSBn.jpg'}, {'cast_id': 7, 'character': 'Adam Jr.', 'credit_id': '52fe4ee7c3a36847f82afaf3', 'gender': 2, 'id': 36801, 'name': 'Adam Scott', 'order': 3, 'profile_path': '/5gb65xz8bzd42yjMAl4zwo4cvKw.jpg'}, {'cast_id': 8, 'character': 'Hot Tub Repairman', 'credit_id': '52fe4ee7c3a36847f82afaf7', 'gender': 2, 'id': 54812, 'name': 'Chevy Chase', 'order': 4, 'profile_path': '/svjpyYtPwtjvRxX9IZnOmOkhDOt.jpg'}, {'cast_id': 9, 'character': 'Jill', 'credit_id': '52fe4ee7c3a36847f82afafb', 'gender': 1, 'id': 94098, 'name': 'Gillian Jacobs', 'order': 5, 'profile_path': '/rBnhe5vhNPnhRUdtYahBWx90fJM.jpg'}, {'cast_id': 10, 'character': 'Sophie', 'credit_id': '52fe4ee7c3a36847f82afaff', 'gender': 1, 'id': 1159009, 'name': 'Bianca Haase', 'order': 6, 'profile_path': '/4x3nbtD8q8phAJPmoGWXPvz0iM.jpg'}, {'cast_id': 11, 'character': 'Kelly', 'credit_id': '5524ec51c3a3687df3000dbb', 'gender': 1, 'id': 86624, 'name': 'Collette Wolfe', 'order': 7, 'profile_path': '/aSD4h5379b2eEw3bLou9ByLimmq.jpg'}, {'cast_id': 13, 'character': 'Brad', 'credit_id': '5524ec8ec3a3687ded000d72', 'gender': 2, 'id': 466505, 'name': 'Kumail Nanjiani', 'order': 9, 'profile_path': '/x4nAztHY72SVciRfxEsbhIVTsIu.jpg'}, {'cast_id': 14, 'character': 'Courtney', 'credit_id': '5524ec9bc3a3687df8000d13', 'gender': 1, 'id': 70776, 'name': 'Kellee Stewart', 'order': 10, 'profile_path': '/w3xmsEPmJc1Cf0dQ4aIn8YmlHbk.jpg'}, {'cast_id': 15, 'character': 'Terry', 'credit_id': '5524eca892514171cb008237', 'gender': 2, 'id': 347335, 'name': 'Josh Heald', 'order': 11, 'profile_path': '/pwXJIenrDMrG7t3zNfLvr8w1RGU.jpg'}, {'cast_id': 16, 'character': 'Susan', 'credit_id': '5524ecb7925141720c001116', 'gender': 0, 'id': 1451392, 'name': 'Gretchen Koerner', 'order': 12, 'profile_path': '/muULPexCTJGyJba4yKzxronpD50.jpg'}, {'cast_id': 17, 'character': 'Herself', 'credit_id': '5524ecc3c3a3687ded000d74', 'gender': 1, 'id': 98879, 'name': 'Lisa Loeb', 'order': 13, 'profile_path': '/bGqg58ca0bZR38z9HliUMmeNGE.jpg'}, {'cast_id': 18, 'character': 'Herself', 'credit_id': '5524ecd3c3a3687e11000ed3', 'gender': 1, 'id': 1394648, 'name': 'Jessica Williams', 'order': 14, 'profile_path': '/A4syKjkcYB92wLEhH0c0hC3BCpz.jpg'}, {'cast_id': 19, 'character': 'Himself', 'credit_id': '5524ece6925141718d001009', 'gender': 0, 'id': 1451393, 'name': 'Bruce Buffer', 'order': 15, 'profile_path': None}, {'cast_id': 20, 'character': 'Shot Girl', 'credit_id': '5524ecf5c3a3687e08000dc2', 'gender': 0, 'id': 1451394, 'name': 'Mariana Paola Vicente', 'order': 16, 'profile_path': '/ckPllza8624UHWGHCbLShkLxCD1.jpg'}, {'cast_id': 33, 'character': 'Choozy Doozy Host', 'credit_id': '555844da9251412afe0013a9', 'gender': 2, 'id': 2224, 'name': 'Christian Slater', 'order': 17, 'profile_path': '/3ElLWjnvchMS6Q4cIQOK8QNAoMG.jpg'}, {'cast_id': 35, 'character': 'Gary Winkle', 'credit_id': '55872027c3a3683853005074', 'gender': 0, 'id': 185805, 'name': 'Jason Jones', 'order': 18, 'profile_path': '/aIoCw6vo8AGMdsQRAI5g2t0yJT3.jpg'}, {'cast_id': 36, 'character': 'Bridesmaid', 'credit_id': '55efe971c3a368090c00cd1b', 'gender': 0, 'id': 1507448, 'name': 'Olivia Jordan', 'order': 19, 'profile_path': '/szMukAEiIDeasel0lvyaeyKuych.jpg'}, {'cast_id': 37, 'character': 'Christine', 'credit_id': '55efe980c3a36871bf008176', 'gender': 1, 'id': 1334091, 'name': 'Christine Bently', 'order': 20, 'profile_path': '/oUZltnGa55OXE52hfyPTfCshuNy.jpg'}, {'cast_id': 38, 'character': 'Excited Girl', 'credit_id': '55efe98e9251413e3201d316', 'gender': 0, 'id': 557803, 'name': 'Stacey Asaro', 'order': 21, 'profile_path': '/qTPdlr1dXf3kNdyHuDsgtGC0HCC.jpg'}, {'cast_id': 64, 'character': 'Adam (uncredited)', 'credit_id': '58f2135ac3a3682e95008b91', 'gender': 2, 'id': 3036, 'name': 'John Cusack', 'order': 22, 'profile_path': '/uKydQYuZ9TnCzvbQLtj6j98vWAT.jpg'}, {'cast_id': 65, 'character': 'J-Bird', 'credit_id': '59ac0240c3a3682cc802c399', 'gender': 2, 'id': 59256, 'name': 'Adam Herschman', 'order': 23, 'profile_path': '/wZMwiuX1DslF6hDS50z9OTN6z1X.jpg'}, {'cast_id': 66, 'character': 'Bridesmaid', 'credit_id': '59ac02cd925141079d02b1b4', 'gender': 1, 'id': 129714, 'name': 'Kisha Sierra', 'order': 24, 'profile_path': None}]\n",
      "1 [{'cast_id': 1, 'character': 'Mia Thermopolis', 'credit_id': '52fe43fe9251416c7502561f', 'gender': 1, 'id': 1813, 'name': 'Anne Hathaway', 'order': 0, 'profile_path': '/jUMOKwSUBnTcMeN1HfhutiY49Ad.jpg'}, {'cast_id': 2, 'character': 'Queen Clarisse Renaldi', 'credit_id': '52fe43fe9251416c75025623', 'gender': 1, 'id': 5823, 'name': 'Julie Andrews', 'order': 1, 'profile_path': '/6t61jkmfSA6nbYRCKR9s97CgUN6.jpg'}, {'cast_id': 3, 'character': 'Joe', 'credit_id': '52fe43fe9251416c75025627', 'gender': 2, 'id': 1210, 'name': 'H√©ctor Elizondo', 'order': 2, 'profile_path': '/48UNfVFZVr0jyMIlLPhzm8IIM7f.jpg'}, {'cast_id': 4, 'character': 'Viscount Mabrey', 'credit_id': '52fe43fe9251416c7502562b', 'gender': 2, 'id': 655, 'name': 'John Rhys-Davies', 'order': 3, 'profile_path': '/zZ67PuoFfik9QlZyfaEsFBC1yVJ.jpg'}, {'cast_id': 5, 'character': 'Lilly Moscovitz', 'credit_id': '52fe43fe9251416c7502562f', 'gender': 1, 'id': 33656, 'name': 'Heather Matarazzo', 'order': 4, 'profile_path': '/xcwR8aPuSkUCDPIyKU049M1CXph.jpg'}, {'cast_id': 6, 'character': 'Nicholas Devereaux', 'credit_id': '52fe43fe9251416c75025633', 'gender': 2, 'id': 62064, 'name': 'Chris Pine', 'order': 5, 'profile_path': '/vSe6sIsdtcoqBhuWRXynahFg8Vf.jpg'}, {'cast_id': 7, 'character': 'Andrew Jacoby', 'credit_id': '52fe43fe9251416c75025637', 'gender': 2, 'id': 68287, 'name': 'Callum Blue', 'order': 6, 'profile_path': '/3qf8rLoWmXOcCA8Rs9RPIEQ9yLB.jpg'}, {'cast_id': 17, 'character': 'Paolo', 'credit_id': '52fe43fe9251416c75025671', 'gender': 2, 'id': 1211, 'name': 'Larry Miller', 'order': 7, 'profile_path': '/xA8zCxNrwtamLaLWNBkLyX5tGtU.jpg'}, {'cast_id': 18, 'character': 'Asana', 'credit_id': '52fe43fe9251416c75025675', 'gender': 1, 'id': 66896, 'name': 'Raven-Symon√©', 'order': 8, 'profile_path': '/nzklI9bgqsUKVWlnQcT5lSrCyaM.jpg'}, {'cast_id': 19, 'character': 'Charlotte Kutaway', 'credit_id': '52fe43fe9251416c75025679', 'gender': 1, 'id': 303542, 'name': 'Kathleen Marshall', 'order': 9, 'profile_path': '/4ANxOHPa81aqLyP8BQxkwmZrWgK.jpg'}, {'cast_id': 21, 'character': \"Mia's Mom Helen\", 'credit_id': '5687f876c3a3685f8900e2a1', 'gender': 1, 'id': 6692, 'name': 'Caroline Goodall', 'order': 10, 'profile_path': '/f3L5WmEtGjjONTe8qvBZOy2dWTJ.jpg'}, {'cast_id': 20, 'character': 'Princess Lorraine', 'credit_id': '5687f825c3a36860e9023861', 'gender': 1, 'id': 966053, 'name': 'Lorraine Nicholson', 'order': 11, 'profile_path': '/eCsoySifBALa6UecWWQ6XShkkeV.jpg'}, {'cast_id': 22, 'character': 'Lady Salsa', 'credit_id': '56b67fc4c3a3680700009953', 'gender': 1, 'id': 95469, 'name': 'Shannon Wilcox', 'order': 12, 'profile_path': '/dQTvcWdLyB5RIWNQxk4DWn6ko59.jpg'}, {'cast_id': 23, 'character': 'Baron Siegfried von Troken', 'credit_id': '56c0ad8cc3a36817f400cc2d', 'gender': 2, 'id': 33832, 'name': 'Greg Lewis', 'order': 13, 'profile_path': '/ys6erqERBQhfTsvCiarmwH8daUm.jpg'}, {'cast_id': 24, 'character': 'Carolina', 'credit_id': '575e0b469251415dd2004e97', 'gender': 1, 'id': 17140, 'name': 'Abigail Breslin', 'order': 14, 'profile_path': '/5zM4beIvrFKICiJXhQCqY3ORngR.jpg'}, {'cast_id': 25, 'character': 'Lord Crawley', 'credit_id': '575e0bc1c3a3683731002094', 'gender': 2, 'id': 155403, 'name': 'Paul Vogt', 'order': 15, 'profile_path': None}, {'cast_id': 26, 'character': 'Monsieur Dupont', 'credit_id': '57c8cc429251410d5000019d', 'gender': 2, 'id': 1665036, 'name': 'Joseph Leo Bwarie', 'order': 16, 'profile_path': '/9H8u70pOBdk0xZsRcKIleBEAyLK.jpg'}, {'cast_id': 27, 'character': 'Lady Caroline', 'credit_id': '57dd9a1092514178550018e1', 'gender': 1, 'id': 83053, 'name': 'Hope Alexander-Willis', 'order': 17, 'profile_path': '/uMA3E1OUniek80LNbqf8ejK2edW.jpg'}, {'cast_id': 28, 'character': 'Lord Peroit', 'credit_id': '57eecf689251416cd60095c1', 'gender': 2, 'id': 1451161, 'name': 'Rowan Joseph', 'order': 18, 'profile_path': '/6zUforjrDfcPoP8YMsdIaoygHmz.jpg'}, {'cast_id': 29, 'character': 'Genovian Cafe Owner', 'credit_id': '57eed0ff9251415ddb00752b', 'gender': 2, 'id': 156005, 'name': 'Jeffrey Scott Jensen', 'order': 19, 'profile_path': '/mW0EwKomK5u3WSmkL60V2HWLhCu.jpg'}]\n",
      "2 [{'cast_id': 5, 'character': 'Andrew Neimann', 'credit_id': '52fe4ef7c3a36847f82b3fc3', 'gender': 2, 'id': 996701, 'name': 'Miles Teller', 'order': 0, 'profile_path': '/o2wfvYAvspsKqYVt4ORR8VWjB7H.jpg'}, {'cast_id': 6, 'character': 'Terence Fletcher', 'credit_id': '52fe4ef7c3a36847f82b3fc7', 'gender': 2, 'id': 18999, 'name': 'J.K. Simmons', 'order': 1, 'profile_path': '/jPoNW5fugs5h8AbcE7H5OBm04Tm.jpg'}, {'cast_id': 11, 'character': 'Nicole', 'credit_id': '52fe4ef7c3a36847f82b3fe3', 'gender': 1, 'id': 129104, 'name': 'Melissa Benoist', 'order': 2, 'profile_path': '/fj3Va0w2OyKaQALGomMgpq2B2Fu.jpg'}, {'cast_id': 12, 'character': 'Ryan', 'credit_id': '52fe4ef7c3a36847f82b3fe7', 'gender': 2, 'id': 970216, 'name': 'Austin Stowell', 'order': 3, 'profile_path': '/su6KMYwfr4qVXRjlXi4u0h16Fxg.jpg'}, {'cast_id': 13, 'character': 'Travis', 'credit_id': '52fe4ef7c3a36847f82b3feb', 'gender': 2, 'id': 223012, 'name': 'Jayson Blair', 'order': 4, 'profile_path': '/lqWVUUOBrv4ANxyvsv5aagc6CBq.jpg'}, {'cast_id': 14, 'character': 'Assistant - Sophie', 'credit_id': '52fe4ef7c3a36847f82b3fef', 'gender': 1, 'id': 159366, 'name': 'Kavita Patil', 'order': 5, 'profile_path': '/z5tSybvNYudaFK2db7bTw9tDqyP.jpg'}, {'cast_id': 15, 'character': 'Mr. Neyman', 'credit_id': '5466cd46eaeb817274000acb', 'gender': 2, 'id': 781, 'name': 'Paul Reiser', 'order': 6, 'profile_path': '/fr53dQQrDGfETgbliCktwKqteRU.jpg'}, {'cast_id': 22, 'character': 'Carl Tanner', 'credit_id': '5525414d925141720c001b56', 'gender': 0, 'id': 1451540, 'name': 'Nate Lang', 'order': 7, 'profile_path': None}, {'cast_id': 23, 'character': 'Uncle Frank', 'credit_id': '5525415fc3a3687df80016c4', 'gender': 2, 'id': 15824, 'name': 'Chris Mulkey', 'order': 8, 'profile_path': '/ibXN9Ho0nCF4jbGHeQYRHI8AMjH.jpg'}, {'cast_id': 24, 'character': 'Mr. Kramer', 'credit_id': '5525416c9251417276001927', 'gender': 2, 'id': 53454, 'name': 'Damon Gupton', 'order': 9, 'profile_path': '/8t8IBqQjRJkPcugmcAAn1C7J0pg.jpg'}, {'cast_id': 25, 'character': 'Aunt Emma', 'credit_id': '55254179c3a3687ded0016cf', 'gender': 0, 'id': 1212459, 'name': 'Suanne Spoke', 'order': 10, 'profile_path': None}, {'cast_id': 26, 'character': 'Dorm Neighbor', 'credit_id': '552541869251417be200a8f2', 'gender': 2, 'id': 52939, 'name': 'Max Kasch', 'order': 11, 'profile_path': '/4NzNJEJ6NWU40GKO6BS1Ne6ECNL.jpg'}, {'cast_id': 27, 'character': 'Dustin', 'credit_id': '552541959251415c7c00bd61', 'gender': 0, 'id': 1451542, 'name': 'Charlie Ian', 'order': 12, 'profile_path': None}, {'cast_id': 29, 'character': 'Bassist (Nassau)', 'credit_id': '552541ae925141720c001b71', 'gender': 2, 'id': 1451543, 'name': 'Kofi Siriboe', 'order': 14, 'profile_path': '/4qxcHkPIMUMZCW7UNH9kIfRndgS.jpg'}, {'cast_id': 31, 'character': 'Metz', 'credit_id': '552541c7c3a3687e08001774', 'gender': 0, 'id': 1451545, 'name': 'C.J. Vana', 'order': 16, 'profile_path': None}, {'cast_id': 32, 'character': 'Pianist (Studio Band)', 'credit_id': '55e6d136c3a3685f85002956', 'gender': 0, 'id': 171766, 'name': 'Tarik Lowe', 'order': 17, 'profile_path': '/ze1kaigQO0wLP4DtLnDIdqtfxtZ.jpg'}, {'cast_id': 33, 'character': 'Saxophonist #2 (Studio Band)', 'credit_id': '55e6d136c3a3685f98002c48', 'gender': 0, 'id': 1398714, 'name': 'Tyler Kimball', 'order': 18, 'profile_path': None}, {'cast_id': 34, 'character': 'Trumpeter #1 (Studio Band)', 'credit_id': '55e6d136c3a3685f8e002617', 'gender': 0, 'id': 1503721, 'name': 'Rogelio Douglas Jr.', 'order': 19, 'profile_path': '/j7NJ52wEo58siDpkzIWIKyC7DD5.jpg'}, {'cast_id': 35, 'character': 'Trumpeter #2 (Studio Band)', 'credit_id': '55e6d137c3a3685f9100272e', 'gender': 0, 'id': 1503834, 'name': 'Adrian Burks', 'order': 20, 'profile_path': None}, {'cast_id': 36, 'character': 'Technician (Overbrook) - Mike', 'credit_id': '55e6d1379251410f0a0026b6', 'gender': 0, 'id': 1503835, 'name': 'Joseph Bruno', 'order': 21, 'profile_path': None}, {'cast_id': 37, 'character': 'Stage Hand (Overbrook)', 'credit_id': '55e6d1379251410f0d002526', 'gender': 0, 'id': 1296849, 'name': 'Michael D. Cohen', 'order': 22, 'profile_path': None}, {'cast_id': 38, 'character': 'Passerby (Bus Station)', 'credit_id': '55e6d1389251410f10002836', 'gender': 1, 'id': 1098246, 'name': 'Jocelyn Ayanna', 'order': 23, 'profile_path': '/98oAzcosJLJHqHFENiWdnnv3n3J.jpg'}, {'cast_id': 39, 'character': 'Truck Driver', 'credit_id': '55e6d1389251410f0700274e', 'gender': 2, 'id': 1503836, 'name': 'Keenan Henson', 'order': 24, 'profile_path': None}, {'cast_id': 40, 'character': 'Passerby (Dunellen)', 'credit_id': '55e6d138c3a3685f8e00261a', 'gender': 0, 'id': 1503837, 'name': 'Janet Hoskins', 'order': 25, 'profile_path': None}, {'cast_id': 41, 'character': 'Rachel Bornholdt', 'credit_id': '55e6d138c3a3685f91002733', 'gender': 1, 'id': 10691, 'name': 'April Grace', 'order': 26, 'profile_path': '/9vHFcPQS463AjDgst7vFJy6ZUnA.jpg'}, {'cast_id': 42, 'character': 'Drummer (Quartet)', 'credit_id': '55e6d139c3a3685f98002c4c', 'gender': 0, 'id': 1503838, 'name': \"Clifton 'Fou Fou' Eddie\", 'order': 27, 'profile_path': None}, {'cast_id': 43, 'character': 'Saxophonist', 'credit_id': '55e6d22f9251410f1300293a', 'gender': 0, 'id': 1145677, 'name': 'Calvin C. Winbush', 'order': 28, 'profile_path': None}, {'cast_id': 44, 'character': 'Bassist (JVC)', 'credit_id': '55e6d22fc3a3685f98002c83', 'gender': 0, 'id': 1291961, 'name': 'Marcus Henderson', 'order': 29, 'profile_path': '/5ggLbrE91uYCq3YyN0pI3bDAPbK.jpg'}, {'cast_id': 45, 'character': 'Stage Hand (Carnegie Hall)', 'credit_id': '55e6d2309251410f17002943', 'gender': 0, 'id': 1503841, 'name': 'Tony Baker', 'order': 30, 'profile_path': None}, {'cast_id': 46, 'character': 'Red Henderson', 'credit_id': '55e6d230c3a3685f96002a6b', 'gender': 2, 'id': 16506, 'name': 'Henry G. Sanders', 'order': 31, 'profile_path': '/2SU75g2CAIzGWbgfIlNvKZQhYTZ.jpg'}, {'cast_id': 47, 'character': 'Andrew (8 years old)', 'credit_id': '55e6d2309251410f0a0026e0', 'gender': 0, 'id': 1503842, 'name': 'Sam Campisi', 'order': 32, 'profile_path': None}, {'cast_id': 48, 'character': 'Nassau Trumpeter #2', 'credit_id': '55e6d231c3a3685f96002a6e', 'gender': 0, 'id': 1503843, 'name': 'Jimmie Kirkpatrick', 'order': 33, 'profile_path': None}, {'cast_id': 49, 'character': 'Studio Core Member #1', 'credit_id': '55e6d2319251410f040027d9', 'gender': 0, 'id': 1503844, 'name': 'Keenan Allen', 'order': 34, 'profile_path': None}, {'cast_id': 50, 'character': 'Studio Core Member #2', 'credit_id': '55e6d2319251410f17002948', 'gender': 0, 'id': 1503845, 'name': 'Ayinde Vaughan', 'order': 35, 'profile_path': None}, {'cast_id': 51, 'character': 'Studio Core Member #3', 'credit_id': '55e6d231c3a3685f96002a72', 'gender': 0, 'id': 1435768, 'name': 'Shai Golan', 'order': 36, 'profile_path': None}, {'cast_id': 52, 'character': 'Studio Core Member #4', 'credit_id': '55e6d2329251410f1300293d', 'gender': 0, 'id': 1503846, 'name': 'Yancey Wells', 'order': 37, 'profile_path': None}, {'cast_id': 53, 'character': 'Student #1', 'credit_id': '55e6d232c3a3685f98002c86', 'gender': 0, 'id': 1503847, 'name': 'Candace Roberge', 'order': 38, 'profile_path': None}, {'cast_id': 54, 'character': 'Student #2', 'credit_id': '55e6d2329251410f13002943', 'gender': 0, 'id': 1503848, 'name': 'Krista Kilber', 'order': 39, 'profile_path': None}, {'cast_id': 55, 'character': 'Diner Patron (uncredited)', 'credit_id': '55e6d233c3a3685f96002a75', 'gender': 1, 'id': 1503849, 'name': 'Cici Leah Campbell', 'order': 40, 'profile_path': '/eV5g6RZ5OVVg2kEYkYu8MndanD6.jpg'}, {'cast_id': 56, 'character': 'JVC Trumpet Player (uncredited)', 'credit_id': '55e6d2339251410f040027de', 'gender': 0, 'id': 1503850, 'name': 'Damien Coates', 'order': 41, 'profile_path': None}, {'cast_id': 57, 'character': 'JVC Alto Jazz Saxophone Player (uncredited)', 'credit_id': '55e6d233c3a3685f8e00263c', 'gender': 0, 'id': 1503851, 'name': 'Kyle Julian Graham', 'order': 42, 'profile_path': None}, {'cast_id': 58, 'character': 'Saxophone Player (uncredited)', 'credit_id': '55e6d2349251410f040027e3', 'gender': 0, 'id': 1503852, 'name': 'Ellee Jane Hounsell', 'order': 43, 'profile_path': None}, {'cast_id': 59, 'character': 'JVC Guitarist (uncredited)', 'credit_id': '55e6d234c3a3685f98002c8c', 'gender': 2, 'id': 1503853, 'name': 'Stephen Hsu', 'order': 44, 'profile_path': None}, {'cast_id': 60, 'character': 'Music Competition Judge (uncredited)', 'credit_id': '55e6d234c3a3685f9100275a', 'gender': 0, 'id': 1503854, 'name': 'Herman Johansen', 'order': 45, 'profile_path': None}, {'cast_id': 61, 'character': 'Audience Member (uncredited)', 'credit_id': '55e6d234c3a3685f9e002777', 'gender': 1, 'id': 79051, 'name': 'Wendee Lee', 'order': 46, 'profile_path': '/4hZsZj6YItnzaXSHdsCxSDA3s4l.jpg'}, {'cast_id': 62, 'character': 'JVC Saxophonist (uncredited)', 'credit_id': '55e6d235c3a3685f9100275f', 'gender': 0, 'id': 1503855, 'name': 'Dakota Lupo', 'order': 47, 'profile_path': None}, {'cast_id': 63, 'character': 'Rival Band Saxophonist (uncredited)', 'credit_id': '55e6d2359251410f1000285a', 'gender': 0, 'id': 1503856, 'name': 'Jesse Mitchell', 'order': 48, 'profile_path': None}, {'cast_id': 64, 'character': 'JVC Trombonist (uncredited)', 'credit_id': '55e6d235c3a3685fa0002166', 'gender': 0, 'id': 1503857, 'name': 'Amanda Newman', 'order': 49, 'profile_path': None}, {'cast_id': 65, 'character': 'Bartender (uncredited)', 'credit_id': '55e6d2369251410f0d002555', 'gender': 2, 'id': 1360008, 'name': 'Joseph Oliveira', 'order': 50, 'profile_path': '/nFJX5qWKlHyew7AHKUFE3EQnMO5.jpg'}, {'cast_id': 66, 'character': 'Audience Member (uncredited)', 'credit_id': '55e6d236c3a3685f9e002779', 'gender': 1, 'id': 81380, 'name': 'Michelle Ruff', 'order': 51, 'profile_path': None}, {'cast_id': 67, 'character': 'Studio Band Saxophone Player (uncredited)', 'credit_id': '55e6d2369251410f0d002558', 'gender': 0, 'id': 1503858, 'name': 'Daniel Weidlein', 'order': 52, 'profile_path': None}]\n"
     ]
    }
   ],
   "source": [
    "for i, e in enumerate(train['cast'][:3]):\n",
    "    print(i, e)"
   ]
  },
  {
   "cell_type": "markdown",
   "id": "fd8c18f3",
   "metadata": {},
   "source": [
    "Number of actors (size of cast) in a movie can be relevant"
   ]
  },
  {
   "cell_type": "code",
   "execution_count": 46,
   "id": "83e04fd8",
   "metadata": {},
   "outputs": [],
   "source": [
    "train['cast_size'] = train['cast'].apply(lambda x: 0 if x is np.nan else x.count('{'))\n",
    "test['cast_size'] = test['cast'].apply(lambda x: 0 if x is np.nan else x.count('{'))"
   ]
  },
  {
   "cell_type": "code",
   "execution_count": 47,
   "id": "032e11ff",
   "metadata": {},
   "outputs": [
    {
     "data": {
      "text/plain": [
       "<matplotlib.collections.PathCollection at 0x7f920c560130>"
      ]
     },
     "execution_count": 47,
     "metadata": {},
     "output_type": "execute_result"
    },
    {
     "data": {
      "image/png": "[encoded data removed]",
      "text/plain": [
       "<Figure size 864x648 with 1 Axes>"
      ]
     },
     "metadata": {
      "needs_background": "light"
     },
     "output_type": "display_data"
    }
   ],
   "source": [
    "plt.subplots(figsize=(12, 9))\n",
    "plt.scatter(x=train['cast_size'], y=train['revenue'], alpha=0.2)"
   ]
  },
  {
   "cell_type": "markdown",
   "id": "d66e2a51",
   "metadata": {},
   "source": [
    "### Crew"
   ]
  },
  {
   "cell_type": "markdown",
   "id": "3f247b49",
   "metadata": {},
   "source": [
    "Lets make crew_size since it is as relevant as cast_size"
   ]
  },
  {
   "cell_type": "code",
   "execution_count": 48,
   "id": "4959aa85",
   "metadata": {},
   "outputs": [],
   "source": [
    "train['crew_size'] = train['crew'].apply(lambda x: 0 if x is np.nan else x.count('{'))\n",
    "test['crew_size'] = test['crew'].apply(lambda x: 0 if x is np.nan else x.count('{'))"
   ]
  },
  {
   "cell_type": "code",
   "execution_count": 49,
   "id": "dfe1ce8b",
   "metadata": {},
   "outputs": [
    {
     "data": {
      "text/plain": [
       "<matplotlib.collections.PathCollection at 0x7f920cc8dc40>"
      ]
     },
     "execution_count": 49,
     "metadata": {},
     "output_type": "execute_result"
    },
    {
     "data": {
      "image/png": "[encoded data removed]",
      "text/plain": [
       "<Figure size 864x648 with 1 Axes>"
      ]
     },
     "metadata": {
      "needs_background": "light"
     },
     "output_type": "display_data"
    }
   ],
   "source": [
    "plt.subplots(figsize=(12, 9))\n",
    "plt.scatter(x=train['crew_size'], y=train['revenue'], alpha=0.2)"
   ]
  },
  {
   "cell_type": "markdown",
   "id": "e65baf3c",
   "metadata": {},
   "source": [
    "#### Drop columns of no interest:\n",
    "We have analysed the most relevant columns and made new features. Now its time to drop the columns we don´t need. "
   ]
  },
  {
   "cell_type": "code",
   "execution_count": 50,
   "id": "9007559f",
   "metadata": {},
   "outputs": [],
   "source": [
    "train.drop(['belongs_to_collection'], axis=1, inplace=True)\n",
    "train.drop(['homepage'], axis=1, inplace=True)\n",
    "train.drop(['original_title'], axis=1, inplace=True)\n",
    "train.drop(['overview'], axis=1, inplace=True)\n",
    "train.drop(['poster_path'], axis=1, inplace=True)\n",
    "train.drop(['release_date'], axis=1, inplace=True)\n",
    "\n",
    "test.drop(['belongs_to_collection'], axis=1, inplace=True)\n",
    "test.drop(['homepage'], axis=1, inplace=True)\n",
    "test.drop(['original_title'], axis=1, inplace=True)\n",
    "test.drop(['overview'], axis=1, inplace=True)\n",
    "test.drop(['poster_path'], axis=1, inplace=True)\n",
    "test.drop(['release_date'], axis=1, inplace=True)"
   ]
  },
  {
   "cell_type": "code",
   "execution_count": 51,
   "id": "fc92b705",
   "metadata": {},
   "outputs": [
    {
     "data": {
      "text/plain": [
       "((3000, 26), (4398, 22))"
      ]
     },
     "execution_count": 51,
     "metadata": {},
     "output_type": "execute_result"
    }
   ],
   "source": [
    "train.shape, test.shape"
   ]
  },
  {
   "cell_type": "code",
   "execution_count": 52,
   "id": "9a00e123",
   "metadata": {},
   "outputs": [],
   "source": [
    "train_c = train.copy()\n",
    "test_c = test.copy()"
   ]
  },
  {
   "cell_type": "code",
   "execution_count": 53,
   "id": "aa8a3123",
   "metadata": {
    "scrolled": true
   },
   "outputs": [
    {
     "name": "stdout",
     "output_type": "stream",
     "text": [
      "<class 'pandas.core.frame.DataFrame'>\n",
      "RangeIndex: 3000 entries, 0 to 2999\n",
      "Data columns (total 26 columns):\n",
      " #   Column                   Non-Null Count  Dtype  \n",
      "---  ------                   --------------  -----  \n",
      " 0   id                       3000 non-null   int64  \n",
      " 1   budget                   3000 non-null   int64  \n",
      " 2   genres                   3000 non-null   object \n",
      " 3   imdb_id                  3000 non-null   object \n",
      " 4   original_language        3000 non-null   object \n",
      " 5   popularity               3000 non-null   float64\n",
      " 6   production_companies     3000 non-null   object \n",
      " 7   production_countries     2945 non-null   object \n",
      " 8   runtime                  2998 non-null   float64\n",
      " 9   spoken_languages         2980 non-null   object \n",
      " 10  status                   3000 non-null   object \n",
      " 11  tagline                  2403 non-null   object \n",
      " 12  title                    3000 non-null   object \n",
      " 13  Keywords                 2724 non-null   object \n",
      " 14  cast                     2987 non-null   object \n",
      " 15  crew                     2984 non-null   object \n",
      " 16  revenue                  3000 non-null   int64  \n",
      " 17  has_collection           3000 non-null   int64  \n",
      " 18  has_homepage             3000 non-null   int64  \n",
      " 19  is_en_original_language  3000 non-null   int64  \n",
      " 20  us_production            3000 non-null   int64  \n",
      " 21  release_month            3000 non-null   int64  \n",
      " 22  release_day              3000 non-null   int64  \n",
      " 23  release_year             3000 non-null   int64  \n",
      " 24  cast_size                3000 non-null   int64  \n",
      " 25  crew_size                3000 non-null   int64  \n",
      "dtypes: float64(2), int64(12), object(12)\n",
      "memory usage: 609.5+ KB\n"
     ]
    }
   ],
   "source": [
    "train.info()"
   ]
  },
  {
   "cell_type": "markdown",
   "id": "eae36bf8",
   "metadata": {},
   "source": [
    "We got multiple attributes with missing values:\n",
    "\n",
    "production_countries,\n",
    "runtime,\n",
    "spoken_languages,\n",
    "tagline,\n",
    "Keywords,\n",
    "cast,\n",
    "crew\n",
    "\n",
    "There are still some columns from which revenue prediction doesn´t affect. It´s also many attributes of object we can´t make our prediction of. We delete all columns we won´t need"
   ]
  },
  {
   "cell_type": "code",
   "execution_count": 54,
   "id": "f00cd302",
   "metadata": {},
   "outputs": [],
   "source": [
    "train.drop(['genres','imdb_id', 'original_language', 'production_companies', 'production_countries', 'spoken_languages', 'status', 'tagline', 'title', 'Keywords', 'cast', 'crew', 'release_month', 'release_day','release_year'], axis=1, inplace=True)\n",
    "\n",
    "test.drop(['genres','imdb_id', 'original_language', 'production_companies', 'production_countries', 'spoken_languages', 'status', 'tagline', 'title', 'Keywords', 'cast', 'crew'], axis=1, inplace=True)"
   ]
  },
  {
   "cell_type": "markdown",
   "id": "217ed482",
   "metadata": {},
   "source": [
    "### Looking for correlations\n",
    "\n",
    "Computing the standard correlation coefficient between every pair of attributes using the corr() method. By doing this we can see how much the attributes correlates with the revenue"
   ]
  },
  {
   "cell_type": "code",
   "execution_count": 55,
   "id": "b49cc7d1",
   "metadata": {},
   "outputs": [
    {
     "data": {
      "text/plain": [
       "revenue                    1.000000\n",
       "budget                     0.752965\n",
       "popularity                 0.461460\n",
       "crew_size                  0.372110\n",
       "has_collection             0.339425\n",
       "cast_size                  0.335737\n",
       "has_homepage               0.263179\n",
       "runtime                    0.216380\n",
       "us_production              0.197595\n",
       "is_en_original_language    0.142130\n",
       "id                         0.000610\n",
       "Name: revenue, dtype: float64"
      ]
     },
     "execution_count": 55,
     "metadata": {},
     "output_type": "execute_result"
    }
   ],
   "source": [
    "corr_matrix = train.corr()\n",
    "corr_matrix['revenue'].sort_values(ascending=False)"
   ]
  },
  {
   "cell_type": "markdown",
   "id": "beb5d773",
   "metadata": {},
   "source": [
    "# Preparing the data"
   ]
  },
  {
   "cell_type": "markdown",
   "id": "9dd6ba37",
   "metadata": {},
   "source": [
    "We are not going to need revenue anymore.\n",
    "\n",
    "We want to create a SimpleImputer instance, specifying that each attribute´s missing values is being replaced with the median of that attribute."
   ]
  },
  {
   "cell_type": "code",
   "execution_count": 56,
   "id": "e4fdb610",
   "metadata": {},
   "outputs": [
    {
     "data": {
      "text/plain": [
       "SimpleImputer(strategy='median')"
      ]
     },
     "execution_count": 56,
     "metadata": {},
     "output_type": "execute_result"
    }
   ],
   "source": [
    "from sklearn.impute import SimpleImputer\n",
    "\n",
    "imputer = SimpleImputer(strategy='median')\n",
    "\n",
    "train_labels = train['revenue'].copy()\n",
    "train = train.drop('revenue', axis=1)\n",
    "\n",
    "train_df = pd.DataFrame(train)\n",
    "train_num = train_df.drop('id', axis=1)\n",
    "\n",
    "test_df = pd.DataFrame(test)\n",
    "test_num = test_df.drop('id', axis=1)\n",
    "\n",
    "imputer.fit(train_num)"
   ]
  },
  {
   "cell_type": "markdown",
   "id": "658b2862",
   "metadata": {},
   "source": [
    "Now we use this trained imputer to transform the training set by replacing missing values by the learned medians. The result is a NumPy array that we convert back to pandas Dataframe."
   ]
  },
  {
   "cell_type": "code",
   "execution_count": 57,
   "id": "af125f00",
   "metadata": {},
   "outputs": [],
   "source": [
    "T = imputer.transform(train_num)\n",
    "train_tr = pd.DataFrame(T, columns=train_num.columns)"
   ]
  },
  {
   "cell_type": "markdown",
   "id": "a9757d61",
   "metadata": {},
   "source": [
    "## Transformation pipelines\n",
    "\n",
    "The pipeline class helps data transformation steps to be executed in the right order. The pipeline´s fit() method calls fit_transform() sequentially on all transformers, passing the output of each call as the parameter to the next call until it reaches the final estimator, which it just calls the fit() method."
   ]
  },
  {
   "cell_type": "code",
   "execution_count": 58,
   "id": "fbaf327a",
   "metadata": {},
   "outputs": [],
   "source": [
    "from sklearn.pipeline import Pipeline\n",
    "from sklearn.preprocessing import StandardScaler\n",
    "\n",
    "num_pipeline = Pipeline([\n",
    "    ('imputer', SimpleImputer(strategy=\"median\")),\n",
    "    ('std_scaler', StandardScaler()),\n",
    "])\n",
    "train_num_tr = num_pipeline.fit_transform(train_num)"
   ]
  },
  {
   "cell_type": "code",
   "execution_count": 59,
   "id": "8ed4a5b4",
   "metadata": {},
   "outputs": [
    {
     "data": {
      "text/html": [
       "<div>\n",
       "<style scoped>\n",
       "    .dataframe tbody tr th:only-of-type {\n",
       "        vertical-align: middle;\n",
       "    }\n",
       "\n",
       "    .dataframe tbody tr th {\n",
       "        vertical-align: top;\n",
       "    }\n",
       "\n",
       "    .dataframe thead th {\n",
       "        text-align: right;\n",
       "    }\n",
       "</style>\n",
       "<table border=\"1\" class=\"dataframe\">\n",
       "  <thead>\n",
       "    <tr style=\"text-align: right;\">\n",
       "      <th></th>\n",
       "      <th>budget</th>\n",
       "      <th>popularity</th>\n",
       "      <th>runtime</th>\n",
       "      <th>has_collection</th>\n",
       "      <th>has_homepage</th>\n",
       "      <th>is_en_original_language</th>\n",
       "      <th>us_production</th>\n",
       "      <th>cast_size</th>\n",
       "      <th>crew_size</th>\n",
       "    </tr>\n",
       "  </thead>\n",
       "  <tbody>\n",
       "    <tr>\n",
       "      <th>0</th>\n",
       "      <td>14000000</td>\n",
       "      <td>6.575393</td>\n",
       "      <td>93.0</td>\n",
       "      <td>1</td>\n",
       "      <td>0</td>\n",
       "      <td>1</td>\n",
       "      <td>1</td>\n",
       "      <td>24</td>\n",
       "      <td>72</td>\n",
       "    </tr>\n",
       "    <tr>\n",
       "      <th>1</th>\n",
       "      <td>40000000</td>\n",
       "      <td>8.248895</td>\n",
       "      <td>113.0</td>\n",
       "      <td>1</td>\n",
       "      <td>0</td>\n",
       "      <td>1</td>\n",
       "      <td>1</td>\n",
       "      <td>20</td>\n",
       "      <td>9</td>\n",
       "    </tr>\n",
       "    <tr>\n",
       "      <th>2</th>\n",
       "      <td>3300000</td>\n",
       "      <td>64.299990</td>\n",
       "      <td>105.0</td>\n",
       "      <td>0</td>\n",
       "      <td>1</td>\n",
       "      <td>1</td>\n",
       "      <td>1</td>\n",
       "      <td>51</td>\n",
       "      <td>64</td>\n",
       "    </tr>\n",
       "    <tr>\n",
       "      <th>3</th>\n",
       "      <td>1200000</td>\n",
       "      <td>3.174936</td>\n",
       "      <td>122.0</td>\n",
       "      <td>0</td>\n",
       "      <td>1</td>\n",
       "      <td>0</td>\n",
       "      <td>0</td>\n",
       "      <td>7</td>\n",
       "      <td>3</td>\n",
       "    </tr>\n",
       "    <tr>\n",
       "      <th>4</th>\n",
       "      <td>0</td>\n",
       "      <td>1.148070</td>\n",
       "      <td>118.0</td>\n",
       "      <td>0</td>\n",
       "      <td>0</td>\n",
       "      <td>0</td>\n",
       "      <td>0</td>\n",
       "      <td>4</td>\n",
       "      <td>2</td>\n",
       "    </tr>\n",
       "  </tbody>\n",
       "</table>\n",
       "</div>"
      ],
      "text/plain": [
       "     budget  popularity  runtime  has_collection  has_homepage  \\\n",
       "0  14000000    6.575393     93.0               1             0   \n",
       "1  40000000    8.248895    113.0               1             0   \n",
       "2   3300000   64.299990    105.0               0             1   \n",
       "3   1200000    3.174936    122.0               0             1   \n",
       "4         0    1.148070    118.0               0             0   \n",
       "\n",
       "   is_en_original_language  us_production  cast_size  crew_size  \n",
       "0                        1              1         24         72  \n",
       "1                        1              1         20          9  \n",
       "2                        1              1         51         64  \n",
       "3                        0              0          7          3  \n",
       "4                        0              0          4          2  "
      ]
     },
     "execution_count": 59,
     "metadata": {},
     "output_type": "execute_result"
    }
   ],
   "source": [
    "train_num.head()"
   ]
  },
  {
   "cell_type": "code",
   "execution_count": 60,
   "id": "1e9c8126",
   "metadata": {},
   "outputs": [
    {
     "data": {
      "text/html": [
       "<div>\n",
       "<style scoped>\n",
       "    .dataframe tbody tr th:only-of-type {\n",
       "        vertical-align: middle;\n",
       "    }\n",
       "\n",
       "    .dataframe tbody tr th {\n",
       "        vertical-align: top;\n",
       "    }\n",
       "\n",
       "    .dataframe thead th {\n",
       "        text-align: right;\n",
       "    }\n",
       "</style>\n",
       "<table border=\"1\" class=\"dataframe\">\n",
       "  <thead>\n",
       "    <tr style=\"text-align: right;\">\n",
       "      <th></th>\n",
       "      <th>budget</th>\n",
       "      <th>popularity</th>\n",
       "      <th>runtime</th>\n",
       "      <th>has_collection</th>\n",
       "      <th>has_homepage</th>\n",
       "      <th>is_en_original_language</th>\n",
       "      <th>us_production</th>\n",
       "      <th>cast_size</th>\n",
       "      <th>crew_size</th>\n",
       "    </tr>\n",
       "  </thead>\n",
       "  <tbody>\n",
       "    <tr>\n",
       "      <th>0</th>\n",
       "      <td>0</td>\n",
       "      <td>3.851534</td>\n",
       "      <td>90.0</td>\n",
       "      <td>1</td>\n",
       "      <td>1</td>\n",
       "      <td>0</td>\n",
       "      <td>1</td>\n",
       "      <td>7</td>\n",
       "      <td>2</td>\n",
       "    </tr>\n",
       "    <tr>\n",
       "      <th>1</th>\n",
       "      <td>88000</td>\n",
       "      <td>3.559789</td>\n",
       "      <td>65.0</td>\n",
       "      <td>0</td>\n",
       "      <td>0</td>\n",
       "      <td>1</td>\n",
       "      <td>1</td>\n",
       "      <td>10</td>\n",
       "      <td>8</td>\n",
       "    </tr>\n",
       "    <tr>\n",
       "      <th>2</th>\n",
       "      <td>0</td>\n",
       "      <td>8.085194</td>\n",
       "      <td>100.0</td>\n",
       "      <td>0</td>\n",
       "      <td>0</td>\n",
       "      <td>1</td>\n",
       "      <td>1</td>\n",
       "      <td>9</td>\n",
       "      <td>10</td>\n",
       "    </tr>\n",
       "    <tr>\n",
       "      <th>3</th>\n",
       "      <td>6800000</td>\n",
       "      <td>8.596012</td>\n",
       "      <td>130.0</td>\n",
       "      <td>0</td>\n",
       "      <td>1</td>\n",
       "      <td>0</td>\n",
       "      <td>0</td>\n",
       "      <td>23</td>\n",
       "      <td>69</td>\n",
       "    </tr>\n",
       "    <tr>\n",
       "      <th>4</th>\n",
       "      <td>2000000</td>\n",
       "      <td>3.217680</td>\n",
       "      <td>92.0</td>\n",
       "      <td>0</td>\n",
       "      <td>0</td>\n",
       "      <td>1</td>\n",
       "      <td>1</td>\n",
       "      <td>4</td>\n",
       "      <td>14</td>\n",
       "    </tr>\n",
       "  </tbody>\n",
       "</table>\n",
       "</div>"
      ],
      "text/plain": [
       "    budget  popularity  runtime  has_collection  has_homepage  \\\n",
       "0        0    3.851534     90.0               1             1   \n",
       "1    88000    3.559789     65.0               0             0   \n",
       "2        0    8.085194    100.0               0             0   \n",
       "3  6800000    8.596012    130.0               0             1   \n",
       "4  2000000    3.217680     92.0               0             0   \n",
       "\n",
       "   is_en_original_language  us_production  cast_size  crew_size  \n",
       "0                        0              1          7          2  \n",
       "1                        1              1         10          8  \n",
       "2                        1              1          9         10  \n",
       "3                        0              0         23         69  \n",
       "4                        1              1          4         14  "
      ]
     },
     "execution_count": 60,
     "metadata": {},
     "output_type": "execute_result"
    }
   ],
   "source": [
    "test_num.head()"
   ]
  },
  {
   "cell_type": "code",
   "execution_count": 61,
   "id": "9f4a6d22",
   "metadata": {},
   "outputs": [],
   "source": [
    "from sklearn.compose import ColumnTransformer \n",
    "\n",
    "num_attribs = list(train_num)\n",
    "full_pipeline = ColumnTransformer([\n",
    "        (\"num\", num_pipeline, num_attribs)\n",
    "    ])\n",
    "train_prep = full_pipeline.fit_transform(train_num)\n",
    "test_prep = full_pipeline.transform(test_num)"
   ]
  },
  {
   "cell_type": "markdown",
   "id": "938b860b",
   "metadata": {},
   "source": [
    "## Select and train a model\n",
    "Now the data is prepared for Machine Learning algorithms\n",
    "### Linear Regression"
   ]
  },
  {
   "cell_type": "code",
   "execution_count": 62,
   "id": "4fa20819",
   "metadata": {},
   "outputs": [
    {
     "data": {
      "text/plain": [
       "LinearRegression()"
      ]
     },
     "execution_count": 62,
     "metadata": {},
     "output_type": "execute_result"
    }
   ],
   "source": [
    "from sklearn.linear_model import LinearRegression\n",
    "\n",
    "x = train_prep\n",
    "y = train_labels\n",
    "\n",
    "lin_reg = LinearRegression()\n",
    "lin_reg.fit(x, y)"
   ]
  },
  {
   "cell_type": "code",
   "execution_count": 63,
   "id": "e3d81a79",
   "metadata": {},
   "outputs": [
    {
     "data": {
      "text/plain": [
       "81708228.82319719"
      ]
     },
     "execution_count": 63,
     "metadata": {},
     "output_type": "execute_result"
    }
   ],
   "source": [
    "from sklearn.metrics import mean_squared_error\n",
    "\n",
    "lin_predictions = lin_reg.predict(x)\n",
    "lin_mse = mean_squared_error(y, lin_predictions)\n",
    "lin_rmse = np.sqrt(lin_mse)\n",
    "lin_rmse"
   ]
  },
  {
   "cell_type": "markdown",
   "id": "5ac774fb",
   "metadata": {},
   "source": [
    "### Random Forest Regressor"
   ]
  },
  {
   "cell_type": "code",
   "execution_count": 64,
   "id": "d39c1b73",
   "metadata": {},
   "outputs": [
    {
     "data": {
      "text/plain": [
       "29971340.494429678"
      ]
     },
     "execution_count": 64,
     "metadata": {},
     "output_type": "execute_result"
    }
   ],
   "source": [
    "from sklearn.ensemble import RandomForestRegressor\n",
    "\n",
    "forest_reg = RandomForestRegressor()\n",
    "forest_reg.fit(x, y)\n",
    "\n",
    "forest_reg_predictions = forest_reg.predict(x)\n",
    "forest_mse = mean_squared_error(y, forest_reg_predictions)\n",
    "forest_rmse = np.sqrt(forest_mse)\n",
    "forest_rmse"
   ]
  },
  {
   "cell_type": "markdown",
   "id": "4ed9b7e7",
   "metadata": {},
   "source": [
    "### Evaluate the best models"
   ]
  },
  {
   "cell_type": "code",
   "execution_count": 65,
   "id": "612e8953",
   "metadata": {},
   "outputs": [],
   "source": [
    "from sklearn.model_selection import cross_val_score\n",
    "\n",
    "def display_scores(scores):\n",
    "     print(\"Scores:\", scores)\n",
    "     print(\"Mean:\", scores.mean())\n",
    "     print(\"Standard deviation:\", scores.std())"
   ]
  },
  {
   "cell_type": "code",
   "execution_count": 66,
   "id": "16ba7905",
   "metadata": {},
   "outputs": [
    {
     "name": "stdout",
     "output_type": "stream",
     "text": [
      "Scores: [83146838.17357022 83938286.3186312  92106061.8320393  81062545.29258846\n",
      " 74598011.67442112 95431685.93034232 68027620.47003707 79239639.79785371\n",
      " 85494631.85806112 78937399.99862222]\n",
      "Mean: 82198272.13461666\n",
      "Standard deviation: 7532124.18383581\n"
     ]
    }
   ],
   "source": [
    "lin_scores = cross_val_score(lin_reg, x, y,\n",
    " scoring=\"neg_mean_squared_error\", cv=10)\n",
    "lin_rmse_scores = np.sqrt(-lin_scores)\n",
    "display_scores(lin_rmse_scores)"
   ]
  },
  {
   "cell_type": "code",
   "execution_count": 67,
   "id": "694c4592",
   "metadata": {},
   "outputs": [
    {
     "name": "stdout",
     "output_type": "stream",
     "text": [
      "Scores: [71192650.19857074 73420628.70537154 93063526.78893767 78462758.90586407\n",
      " 80175852.02885894 95933557.17212747 63019382.52457488 79795259.22417448\n",
      " 81934481.41285552 72778923.23290567]\n",
      "Mean: 78977702.0194241\n",
      "Standard deviation: 9389377.362912165\n"
     ]
    }
   ],
   "source": [
    "forest_scores = cross_val_score(forest_reg, x, y, scoring='neg_mean_squared_error', cv=10)\n",
    "forest_rmse_scores = np.sqrt(-forest_scores)\n",
    "display_scores(forest_rmse_scores)"
   ]
  },
  {
   "cell_type": "code",
   "execution_count": null,
   "id": "9fe545c7",
   "metadata": {},
   "outputs": [],
   "source": []
  },
  {
   "cell_type": "code",
   "execution_count": 68,
   "id": "5f651213",
   "metadata": {},
   "outputs": [
    {
     "data": {
      "text/plain": [
       "GridSearchCV(cv=5, estimator=RandomForestRegressor(),\n",
       "             param_grid=[{'max_features': [2, 4, 6, 8],\n",
       "                          'n_estimators': [3, 10, 30]},\n",
       "                         {'bootstrap': [False], 'max_features': [2, 3, 4],\n",
       "                          'n_estimators': [3, 10]}],\n",
       "             return_train_score=True, scoring='neg_mean_squared_error')"
      ]
     },
     "execution_count": 68,
     "metadata": {},
     "output_type": "execute_result"
    }
   ],
   "source": [
    "from sklearn.model_selection import GridSearchCV\n",
    "\n",
    "param_grid = [\n",
    "    {'n_estimators': [3, 10, 30], 'max_features': [2, 4, 6, 8]},\n",
    "    {'bootstrap': [False], 'n_estimators': [3, 10], 'max_features': [2, 3, 4]},\n",
    " ]\n",
    "forest_reg = RandomForestRegressor()\n",
    "\n",
    "grid_search = GridSearchCV(forest_reg, param_grid, cv=5, \n",
    "                           scoring='neg_mean_squared_error',\n",
    "                           return_train_score=True)\n",
    "\n",
    "grid_search.fit(x, y)"
   ]
  },
  {
   "cell_type": "code",
   "execution_count": 69,
   "id": "00fab9aa",
   "metadata": {},
   "outputs": [
    {
     "name": "stdout",
     "output_type": "stream",
     "text": [
      "93834917.35331166 {'max_features': 2, 'n_estimators': 3}\n",
      "80429134.40389296 {'max_features': 2, 'n_estimators': 10}\n",
      "77599958.39150698 {'max_features': 2, 'n_estimators': 30}\n",
      "92227300.06628938 {'max_features': 4, 'n_estimators': 3}\n",
      "79831441.96904689 {'max_features': 4, 'n_estimators': 10}\n",
      "78822828.38423641 {'max_features': 4, 'n_estimators': 30}\n",
      "93122487.77363569 {'max_features': 6, 'n_estimators': 3}\n",
      "80354131.230786 {'max_features': 6, 'n_estimators': 10}\n",
      "79497001.37436165 {'max_features': 6, 'n_estimators': 30}\n",
      "89970453.35766451 {'max_features': 8, 'n_estimators': 3}\n",
      "81149836.92404091 {'max_features': 8, 'n_estimators': 10}\n",
      "79127920.05169149 {'max_features': 8, 'n_estimators': 30}\n",
      "90034869.7302688 {'bootstrap': False, 'max_features': 2, 'n_estimators': 3}\n",
      "82768165.45740572 {'bootstrap': False, 'max_features': 2, 'n_estimators': 10}\n",
      "90992629.43001497 {'bootstrap': False, 'max_features': 3, 'n_estimators': 3}\n",
      "80584767.47629832 {'bootstrap': False, 'max_features': 3, 'n_estimators': 10}\n",
      "88966235.14256127 {'bootstrap': False, 'max_features': 4, 'n_estimators': 3}\n",
      "81135742.60029368 {'bootstrap': False, 'max_features': 4, 'n_estimators': 10}\n"
     ]
    }
   ],
   "source": [
    "cvres = grid_search.cv_results_\n",
    "for mean_score, params in zip(cvres[\"mean_test_score\"], cvres[\"params\"]):\n",
    "                             print(np.sqrt(-mean_score), params)"
   ]
  },
  {
   "cell_type": "code",
   "execution_count": 70,
   "id": "0b4665f1",
   "metadata": {},
   "outputs": [
    {
     "data": {
      "text/plain": [
       "array([0.32664376, 0.21020476, 0.12565779, 0.06876568, 0.03976819,\n",
       "       0.00694551, 0.01174299, 0.09822524, 0.11204609])"
      ]
     },
     "execution_count": 70,
     "metadata": {},
     "output_type": "execute_result"
    }
   ],
   "source": [
    "feature_importances = grid_search.best_estimator_.feature_importances_\n",
    "feature_importances"
   ]
  },
  {
   "cell_type": "code",
   "execution_count": 71,
   "id": "3ed64864",
   "metadata": {},
   "outputs": [
    {
     "data": {
      "text/plain": [
       "[(0.3266437562317217, 'budget'),\n",
       " (0.21020476052233192, 'popularity'),\n",
       " (0.1256577920575783, 'runtime'),\n",
       " (0.11204609295294116, 'crew_size'),\n",
       " (0.09822523849651366, 'cast_size'),\n",
       " (0.06876567949705643, 'has_collection'),\n",
       " (0.03976818736978435, 'has_homepage'),\n",
       " (0.0117429857949814, 'us_production'),\n",
       " (0.006945507077091054, 'is_en_original_language')]"
      ]
     },
     "execution_count": 71,
     "metadata": {},
     "output_type": "execute_result"
    }
   ],
   "source": [
    "sorted(zip(feature_importances, num_attribs), reverse=True)"
   ]
  },
  {
   "cell_type": "code",
   "execution_count": 72,
   "id": "f40e9d02",
   "metadata": {},
   "outputs": [
    {
     "data": {
      "text/plain": [
       "RandomForestRegressor(max_features=2, n_estimators=30)"
      ]
     },
     "execution_count": 72,
     "metadata": {},
     "output_type": "execute_result"
    }
   ],
   "source": [
    "grid_search.best_estimator_"
   ]
  },
  {
   "cell_type": "markdown",
   "id": "78133d5b",
   "metadata": {},
   "source": [
    "## Final model"
   ]
  },
  {
   "cell_type": "code",
   "execution_count": 73,
   "id": "2029f253",
   "metadata": {},
   "outputs": [],
   "source": [
    "final_model = grid_search.best_estimator_\n",
    "\n",
    "final_predictions = final_model.predict(test_prep)"
   ]
  },
  {
   "cell_type": "code",
   "execution_count": 74,
   "id": "c451ab1a",
   "metadata": {},
   "outputs": [
    {
     "data": {
      "text/plain": [
       "4398"
      ]
     },
     "execution_count": 74,
     "metadata": {},
     "output_type": "execute_result"
    }
   ],
   "source": [
    "len(final_predictions)"
   ]
  },
  {
   "cell_type": "markdown",
   "id": "3ddaefad",
   "metadata": {},
   "source": [
    "## Submission"
   ]
  },
  {
   "cell_type": "code",
   "execution_count": 75,
   "id": "adec859a",
   "metadata": {},
   "outputs": [],
   "source": [
    "submission = pd.DataFrame({'Id': test_id, 'revenue': final_predictions})"
   ]
  },
  {
   "cell_type": "code",
   "execution_count": 76,
   "id": "be6a09a2",
   "metadata": {},
   "outputs": [
    {
     "data": {
      "text/html": [
       "<div>\n",
       "<style scoped>\n",
       "    .dataframe tbody tr th:only-of-type {\n",
       "        vertical-align: middle;\n",
       "    }\n",
       "\n",
       "    .dataframe tbody tr th {\n",
       "        vertical-align: top;\n",
       "    }\n",
       "\n",
       "    .dataframe thead th {\n",
       "        text-align: right;\n",
       "    }\n",
       "</style>\n",
       "<table border=\"1\" class=\"dataframe\">\n",
       "  <thead>\n",
       "    <tr style=\"text-align: right;\">\n",
       "      <th></th>\n",
       "      <th>Id</th>\n",
       "      <th>revenue</th>\n",
       "    </tr>\n",
       "  </thead>\n",
       "  <tbody>\n",
       "    <tr>\n",
       "      <th>0</th>\n",
       "      <td>3001</td>\n",
       "      <td>2.445399e+07</td>\n",
       "    </tr>\n",
       "    <tr>\n",
       "      <th>1</th>\n",
       "      <td>3002</td>\n",
       "      <td>5.474540e+06</td>\n",
       "    </tr>\n",
       "    <tr>\n",
       "      <th>2</th>\n",
       "      <td>3003</td>\n",
       "      <td>1.299597e+07</td>\n",
       "    </tr>\n",
       "    <tr>\n",
       "      <th>3</th>\n",
       "      <td>3004</td>\n",
       "      <td>4.104884e+07</td>\n",
       "    </tr>\n",
       "    <tr>\n",
       "      <th>4</th>\n",
       "      <td>3005</td>\n",
       "      <td>5.137673e+06</td>\n",
       "    </tr>\n",
       "  </tbody>\n",
       "</table>\n",
       "</div>"
      ],
      "text/plain": [
       "     Id       revenue\n",
       "0  3001  2.445399e+07\n",
       "1  3002  5.474540e+06\n",
       "2  3003  1.299597e+07\n",
       "3  3004  4.104884e+07\n",
       "4  3005  5.137673e+06"
      ]
     },
     "execution_count": 76,
     "metadata": {},
     "output_type": "execute_result"
    }
   ],
   "source": [
    "submission.head()"
   ]
  },
  {
   "cell_type": "code",
   "execution_count": 77,
   "id": "94172d74",
   "metadata": {},
   "outputs": [],
   "source": [
    "submission.to_csv('submission.csv', index=False)"
   ]
  },
  {
   "cell_type": "markdown",
   "id": "73c692aa",
   "metadata": {},
   "source": [
    "## Export trained model"
   ]
  },
  {
   "cell_type": "code",
   "execution_count": 79,
   "id": "522d547b",
   "metadata": {},
   "outputs": [
    {
     "data": {
      "text/plain": [
       "['models/TMBDpred_rf.joblib']"
      ]
     },
     "execution_count": 79,
     "metadata": {},
     "output_type": "execute_result"
    }
   ],
   "source": [
    "from joblib import dump\n",
    "dump(final_model, 'models/TMBDpred_rf.joblib', compress=6)"
   ]
  },
  {
   "cell_type": "code",
   "execution_count": null,
   "id": "8c47deda",
   "metadata": {},
   "outputs": [],
   "source": []
  }
 ],
 "metadata": {
  "kernelspec": {
   "display_name": "Python 3 (ipykernel)",
   "language": "python",
   "name": "python3"
  },
  "language_info": {
   "codemirror_mode": {
    "name": "ipython",
    "version": 3
   },
   "file_extension": ".py",
   "mimetype": "text/x-python",
   "name": "python",
   "nbconvert_exporter": "python",
   "pygments_lexer": "ipython3",
   "version": "3.9.7"
  }
 },
 "nbformat": 4,
 "nbformat_minor": 5
}
